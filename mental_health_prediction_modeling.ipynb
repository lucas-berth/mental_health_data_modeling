{
 "cells": [
  {
   "cell_type": "code",
   "execution_count": 7,
   "id": "3b18b486-e17e-4571-8775-e8df51bcba47",
   "metadata": {},
   "outputs": [],
   "source": [
    "#www.kaggle.com/competitions/playground-series-s4e11/overview/$citation"
   ]
  },
  {
   "cell_type": "code",
   "execution_count": 1,
   "id": "b6816075-c1d1-4a29-9b8e-88d6a92f4eb5",
   "metadata": {},
   "outputs": [
    {
     "name": "stdout",
     "output_type": "stream",
     "text": [
      "Collecting xgboost\n",
      "  Using cached xgboost-2.1.2-py3-none-win_amd64.whl.metadata (2.1 kB)\n",
      "Requirement already satisfied: numpy in c:\\users\\lucas\\appdata\\local\\packages\\pythonsoftwarefoundation.python.3.10_qbz5n2kfra8p0\\localcache\\local-packages\\python310\\site-packages (from xgboost) (1.24.2)\n",
      "Requirement already satisfied: scipy in c:\\users\\lucas\\appdata\\local\\packages\\pythonsoftwarefoundation.python.3.10_qbz5n2kfra8p0\\localcache\\local-packages\\python310\\site-packages (from xgboost) (1.14.1)\n",
      "Using cached xgboost-2.1.2-py3-none-win_amd64.whl (124.9 MB)\n",
      "Installing collected packages: xgboost\n",
      "Successfully installed xgboost-2.1.2\n",
      "Note: you may need to restart the kernel to use updated packages.\n"
     ]
    },
    {
     "name": "stderr",
     "output_type": "stream",
     "text": [
      "\n",
      "[notice] A new release of pip is available: 24.0 -> 24.3.1\n",
      "[notice] To update, run: C:\\Users\\lucas\\AppData\\Local\\Microsoft\\WindowsApps\\PythonSoftwareFoundation.Python.3.10_qbz5n2kfra8p0\\python.exe -m pip install --upgrade pip\n"
     ]
    }
   ],
   "source": [
    "pip install xgboost"
   ]
  },
  {
   "cell_type": "code",
   "execution_count": 3,
   "id": "f6d76efd-2576-4e25-89c3-e22d6f0b10dc",
   "metadata": {},
   "outputs": [
    {
     "name": "stdout",
     "output_type": "stream",
     "text": [
      "Collecting nbstripout\n",
      "  Using cached nbstripout-0.8.0-py2.py3-none-any.whl.metadata (19 kB)\n",
      "Requirement already satisfied: nbformat in c:\\users\\lucas\\appdata\\local\\packages\\pythonsoftwarefoundation.python.3.10_qbz5n2kfra8p0\\localcache\\local-packages\\python310\\site-packages (from nbstripout) (5.10.4)\n",
      "Requirement already satisfied: fastjsonschema>=2.15 in c:\\users\\lucas\\appdata\\local\\packages\\pythonsoftwarefoundation.python.3.10_qbz5n2kfra8p0\\localcache\\local-packages\\python310\\site-packages (from nbformat->nbstripout) (2.19.1)\n",
      "Requirement already satisfied: jsonschema>=2.6 in c:\\users\\lucas\\appdata\\local\\packages\\pythonsoftwarefoundation.python.3.10_qbz5n2kfra8p0\\localcache\\local-packages\\python310\\site-packages (from nbformat->nbstripout) (4.21.1)\n",
      "Requirement already satisfied: jupyter-core!=5.0.*,>=4.12 in c:\\users\\lucas\\appdata\\local\\packages\\pythonsoftwarefoundation.python.3.10_qbz5n2kfra8p0\\localcache\\local-packages\\python310\\site-packages (from nbformat->nbstripout) (5.2.0)\n",
      "Requirement already satisfied: traitlets>=5.1 in c:\\users\\lucas\\appdata\\local\\packages\\pythonsoftwarefoundation.python.3.10_qbz5n2kfra8p0\\localcache\\local-packages\\python310\\site-packages (from nbformat->nbstripout) (5.9.0)\n",
      "Requirement already satisfied: attrs>=22.2.0 in c:\\users\\lucas\\appdata\\local\\packages\\pythonsoftwarefoundation.python.3.10_qbz5n2kfra8p0\\localcache\\local-packages\\python310\\site-packages (from jsonschema>=2.6->nbformat->nbstripout) (23.1.0)\n",
      "Requirement already satisfied: jsonschema-specifications>=2023.03.6 in c:\\users\\lucas\\appdata\\local\\packages\\pythonsoftwarefoundation.python.3.10_qbz5n2kfra8p0\\localcache\\local-packages\\python310\\site-packages (from jsonschema>=2.6->nbformat->nbstripout) (2023.12.1)\n",
      "Requirement already satisfied: referencing>=0.28.4 in c:\\users\\lucas\\appdata\\local\\packages\\pythonsoftwarefoundation.python.3.10_qbz5n2kfra8p0\\localcache\\local-packages\\python310\\site-packages (from jsonschema>=2.6->nbformat->nbstripout) (0.34.0)\n",
      "Requirement already satisfied: rpds-py>=0.7.1 in c:\\users\\lucas\\appdata\\local\\packages\\pythonsoftwarefoundation.python.3.10_qbz5n2kfra8p0\\localcache\\local-packages\\python310\\site-packages (from jsonschema>=2.6->nbformat->nbstripout) (0.18.0)\n",
      "Requirement already satisfied: platformdirs>=2.5 in c:\\users\\lucas\\appdata\\local\\packages\\pythonsoftwarefoundation.python.3.10_qbz5n2kfra8p0\\localcache\\local-packages\\python310\\site-packages (from jupyter-core!=5.0.*,>=4.12->nbformat->nbstripout) (3.0.0)\n",
      "Requirement already satisfied: pywin32>=1.0 in c:\\users\\lucas\\appdata\\local\\packages\\pythonsoftwarefoundation.python.3.10_qbz5n2kfra8p0\\localcache\\local-packages\\python310\\site-packages (from jupyter-core!=5.0.*,>=4.12->nbformat->nbstripout) (305)\n",
      "Using cached nbstripout-0.8.0-py2.py3-none-any.whl (16 kB)\n",
      "Installing collected packages: nbstripout\n",
      "Successfully installed nbstripout-0.8.0\n",
      "Note: you may need to restart the kernel to use updated packages.\n"
     ]
    },
    {
     "name": "stderr",
     "output_type": "stream",
     "text": [
      "\n",
      "[notice] A new release of pip is available: 24.0 -> 24.3.1\n",
      "[notice] To update, run: C:\\Users\\lucas\\AppData\\Local\\Microsoft\\WindowsApps\\PythonSoftwareFoundation.Python.3.10_qbz5n2kfra8p0\\python.exe -m pip install --upgrade pip\n"
     ]
    }
   ],
   "source": [
    "pip install nbstripout"
   ]
  },
  {
   "cell_type": "code",
   "execution_count": 5,
   "id": "a66a3c0b-340e-4564-9c80-6ab2be3bc7cc",
   "metadata": {},
   "outputs": [],
   "source": [
    "#import packages\n",
    "\n",
    "#EDA / Visualization\n",
    "import pandas as pd\n",
    "import numpy as np\n",
    "import seaborn as sns\n",
    "import matplotlib.pyplot as plt\n",
    "\n",
    "#data modeling\n",
    "from sklearn.preprocessing import StandardScaler\n",
    "from sklearn.preprocessing import MinMaxScaler\n",
    "from sklearn.model_selection import train_test_split\n",
    "from sklearn.neighbors import KNeighborsClassifier\n",
    "from sklearn.metrics import accuracy_score, classification_report, confusion_matrix\n",
    "from sklearn.linear_model import LogisticRegression\n",
    "from sklearn import metrics\n",
    "from sklearn.ensemble import RandomForestClassifier\n",
    "from sklearn.metrics import accuracy_score, confusion_matrix, precision_score, recall_score, ConfusionMatrixDisplay\n",
    "from sklearn.model_selection import RandomizedSearchCV, train_test_split\n",
    "from sklearn.tree import DecisionTreeClassifier\n",
    "from scipy.stats import randint\n",
    "from sklearn import tree\n",
    "import xgboost as xgb\n",
    "from sklearn.metrics import mean_squared_error\n",
    "from sklearn.ensemble import RandomForestClassifier, VotingClassifier\n",
    "from sklearn.svm import SVC\n",
    "from sklearn.ensemble import StackingClassifier\n",
    "\n",
    "#for github\n",
    "import nbstripout\n",
    "\n",
    "#for packaging model\n",
    "import joblib"
   ]
  },
  {
   "cell_type": "markdown",
   "id": "e8db4fb5-e911-4cd1-95ae-57b6c4b0f14e",
   "metadata": {},
   "source": [
    "# EDA"
   ]
  },
  {
   "cell_type": "code",
   "execution_count": 8,
   "id": "84f872da-a6d5-423b-944f-7f491487b411",
   "metadata": {},
   "outputs": [],
   "source": [
    "#import training data and start exploratory data analysis\n",
    "data = pd.read_csv('train.csv')"
   ]
  },
  {
   "cell_type": "code",
   "execution_count": 9,
   "id": "6c1df0ae-a74d-4a40-8534-d669d4bc9af0",
   "metadata": {},
   "outputs": [
    {
     "data": {
      "text/html": [
       "<div>\n",
       "<style scoped>\n",
       "    .dataframe tbody tr th:only-of-type {\n",
       "        vertical-align: middle;\n",
       "    }\n",
       "\n",
       "    .dataframe tbody tr th {\n",
       "        vertical-align: top;\n",
       "    }\n",
       "\n",
       "    .dataframe thead th {\n",
       "        text-align: right;\n",
       "    }\n",
       "</style>\n",
       "<table border=\"1\" class=\"dataframe\">\n",
       "  <thead>\n",
       "    <tr style=\"text-align: right;\">\n",
       "      <th></th>\n",
       "      <th>id</th>\n",
       "      <th>Name</th>\n",
       "      <th>Gender</th>\n",
       "      <th>Age</th>\n",
       "      <th>City</th>\n",
       "      <th>Working Professional or Student</th>\n",
       "      <th>Profession</th>\n",
       "      <th>Academic Pressure</th>\n",
       "      <th>Work Pressure</th>\n",
       "      <th>CGPA</th>\n",
       "      <th>Study Satisfaction</th>\n",
       "      <th>Job Satisfaction</th>\n",
       "      <th>Sleep Duration</th>\n",
       "      <th>Dietary Habits</th>\n",
       "      <th>Degree</th>\n",
       "      <th>Have you ever had suicidal thoughts ?</th>\n",
       "      <th>Work/Study Hours</th>\n",
       "      <th>Financial Stress</th>\n",
       "      <th>Family History of Mental Illness</th>\n",
       "      <th>Depression</th>\n",
       "    </tr>\n",
       "  </thead>\n",
       "  <tbody>\n",
       "    <tr>\n",
       "      <th>0</th>\n",
       "      <td>0</td>\n",
       "      <td>Aaradhya</td>\n",
       "      <td>Female</td>\n",
       "      <td>49.0</td>\n",
       "      <td>Ludhiana</td>\n",
       "      <td>Working Professional</td>\n",
       "      <td>Chef</td>\n",
       "      <td>NaN</td>\n",
       "      <td>5.0</td>\n",
       "      <td>NaN</td>\n",
       "      <td>NaN</td>\n",
       "      <td>2.0</td>\n",
       "      <td>More than 8 hours</td>\n",
       "      <td>Healthy</td>\n",
       "      <td>BHM</td>\n",
       "      <td>No</td>\n",
       "      <td>1.0</td>\n",
       "      <td>2.0</td>\n",
       "      <td>No</td>\n",
       "      <td>0</td>\n",
       "    </tr>\n",
       "    <tr>\n",
       "      <th>1</th>\n",
       "      <td>1</td>\n",
       "      <td>Vivan</td>\n",
       "      <td>Male</td>\n",
       "      <td>26.0</td>\n",
       "      <td>Varanasi</td>\n",
       "      <td>Working Professional</td>\n",
       "      <td>Teacher</td>\n",
       "      <td>NaN</td>\n",
       "      <td>4.0</td>\n",
       "      <td>NaN</td>\n",
       "      <td>NaN</td>\n",
       "      <td>3.0</td>\n",
       "      <td>Less than 5 hours</td>\n",
       "      <td>Unhealthy</td>\n",
       "      <td>LLB</td>\n",
       "      <td>Yes</td>\n",
       "      <td>7.0</td>\n",
       "      <td>3.0</td>\n",
       "      <td>No</td>\n",
       "      <td>1</td>\n",
       "    </tr>\n",
       "    <tr>\n",
       "      <th>2</th>\n",
       "      <td>2</td>\n",
       "      <td>Yuvraj</td>\n",
       "      <td>Male</td>\n",
       "      <td>33.0</td>\n",
       "      <td>Visakhapatnam</td>\n",
       "      <td>Student</td>\n",
       "      <td>NaN</td>\n",
       "      <td>5.0</td>\n",
       "      <td>NaN</td>\n",
       "      <td>8.97</td>\n",
       "      <td>2.0</td>\n",
       "      <td>NaN</td>\n",
       "      <td>5-6 hours</td>\n",
       "      <td>Healthy</td>\n",
       "      <td>B.Pharm</td>\n",
       "      <td>Yes</td>\n",
       "      <td>3.0</td>\n",
       "      <td>1.0</td>\n",
       "      <td>No</td>\n",
       "      <td>1</td>\n",
       "    </tr>\n",
       "    <tr>\n",
       "      <th>3</th>\n",
       "      <td>3</td>\n",
       "      <td>Yuvraj</td>\n",
       "      <td>Male</td>\n",
       "      <td>22.0</td>\n",
       "      <td>Mumbai</td>\n",
       "      <td>Working Professional</td>\n",
       "      <td>Teacher</td>\n",
       "      <td>NaN</td>\n",
       "      <td>5.0</td>\n",
       "      <td>NaN</td>\n",
       "      <td>NaN</td>\n",
       "      <td>1.0</td>\n",
       "      <td>Less than 5 hours</td>\n",
       "      <td>Moderate</td>\n",
       "      <td>BBA</td>\n",
       "      <td>Yes</td>\n",
       "      <td>10.0</td>\n",
       "      <td>1.0</td>\n",
       "      <td>Yes</td>\n",
       "      <td>1</td>\n",
       "    </tr>\n",
       "    <tr>\n",
       "      <th>4</th>\n",
       "      <td>4</td>\n",
       "      <td>Rhea</td>\n",
       "      <td>Female</td>\n",
       "      <td>30.0</td>\n",
       "      <td>Kanpur</td>\n",
       "      <td>Working Professional</td>\n",
       "      <td>Business Analyst</td>\n",
       "      <td>NaN</td>\n",
       "      <td>1.0</td>\n",
       "      <td>NaN</td>\n",
       "      <td>NaN</td>\n",
       "      <td>1.0</td>\n",
       "      <td>5-6 hours</td>\n",
       "      <td>Unhealthy</td>\n",
       "      <td>BBA</td>\n",
       "      <td>Yes</td>\n",
       "      <td>9.0</td>\n",
       "      <td>4.0</td>\n",
       "      <td>Yes</td>\n",
       "      <td>0</td>\n",
       "    </tr>\n",
       "  </tbody>\n",
       "</table>\n",
       "</div>"
      ],
      "text/plain": [
       "   id      Name  Gender   Age           City Working Professional or Student  \\\n",
       "0   0  Aaradhya  Female  49.0       Ludhiana            Working Professional   \n",
       "1   1     Vivan    Male  26.0       Varanasi            Working Professional   \n",
       "2   2    Yuvraj    Male  33.0  Visakhapatnam                         Student   \n",
       "3   3    Yuvraj    Male  22.0         Mumbai            Working Professional   \n",
       "4   4      Rhea  Female  30.0         Kanpur            Working Professional   \n",
       "\n",
       "         Profession  Academic Pressure  Work Pressure  CGPA  \\\n",
       "0              Chef                NaN            5.0   NaN   \n",
       "1           Teacher                NaN            4.0   NaN   \n",
       "2               NaN                5.0            NaN  8.97   \n",
       "3           Teacher                NaN            5.0   NaN   \n",
       "4  Business Analyst                NaN            1.0   NaN   \n",
       "\n",
       "   Study Satisfaction  Job Satisfaction     Sleep Duration Dietary Habits  \\\n",
       "0                 NaN               2.0  More than 8 hours        Healthy   \n",
       "1                 NaN               3.0  Less than 5 hours      Unhealthy   \n",
       "2                 2.0               NaN          5-6 hours        Healthy   \n",
       "3                 NaN               1.0  Less than 5 hours       Moderate   \n",
       "4                 NaN               1.0          5-6 hours      Unhealthy   \n",
       "\n",
       "    Degree Have you ever had suicidal thoughts ?  Work/Study Hours  \\\n",
       "0      BHM                                    No               1.0   \n",
       "1      LLB                                   Yes               7.0   \n",
       "2  B.Pharm                                   Yes               3.0   \n",
       "3      BBA                                   Yes              10.0   \n",
       "4      BBA                                   Yes               9.0   \n",
       "\n",
       "   Financial Stress Family History of Mental Illness  Depression  \n",
       "0               2.0                               No           0  \n",
       "1               3.0                               No           1  \n",
       "2               1.0                               No           1  \n",
       "3               1.0                              Yes           1  \n",
       "4               4.0                              Yes           0  "
      ]
     },
     "execution_count": 9,
     "metadata": {},
     "output_type": "execute_result"
    }
   ],
   "source": [
    "data.head()"
   ]
  },
  {
   "cell_type": "code",
   "execution_count": 12,
   "id": "88eb3b58-6108-4463-895c-3d5647beb53f",
   "metadata": {},
   "outputs": [
    {
     "data": {
      "text/plain": [
       "Index(['id', 'Name', 'Gender', 'Age', 'City',\n",
       "       'Working Professional or Student', 'Profession', 'Academic Pressure',\n",
       "       'Work Pressure', 'CGPA', 'Study Satisfaction', 'Job Satisfaction',\n",
       "       'Sleep Duration', 'Dietary Habits', 'Degree',\n",
       "       'Have you ever had suicidal thoughts ?', 'Work/Study Hours',\n",
       "       'Financial Stress', 'Family History of Mental Illness', 'Depression'],\n",
       "      dtype='object')"
      ]
     },
     "execution_count": 12,
     "metadata": {},
     "output_type": "execute_result"
    }
   ],
   "source": [
    "data.columns"
   ]
  },
  {
   "cell_type": "code",
   "execution_count": 13,
   "id": "4aca06c5-6689-4bdc-a9b9-d6d14c5c1d9e",
   "metadata": {},
   "outputs": [
    {
     "data": {
      "text/plain": [
       "id                                       140700\n",
       "Name                                     140700\n",
       "Gender                                   140700\n",
       "Age                                      140700\n",
       "City                                     140700\n",
       "Working Professional or Student          140700\n",
       "Profession                               104070\n",
       "Academic Pressure                         27897\n",
       "Work Pressure                            112782\n",
       "CGPA                                      27898\n",
       "Study Satisfaction                        27897\n",
       "Job Satisfaction                         112790\n",
       "Sleep Duration                           140700\n",
       "Dietary Habits                           140696\n",
       "Degree                                   140698\n",
       "Have you ever had suicidal thoughts ?    140700\n",
       "Work/Study Hours                         140700\n",
       "Financial Stress                         140696\n",
       "Family History of Mental Illness         140700\n",
       "Depression                               140700\n",
       "dtype: int64"
      ]
     },
     "execution_count": 13,
     "metadata": {},
     "output_type": "execute_result"
    }
   ],
   "source": [
    "data.count()"
   ]
  },
  {
   "cell_type": "code",
   "execution_count": 46,
   "id": "013c25ab-3583-44b9-aca3-3a046a99702a",
   "metadata": {},
   "outputs": [
    {
     "data": {
      "image/png": "[encoded data removed]",
      "text/plain": [
       "<Figure size 1500x700 with 1 Axes>"
      ]
     },
     "metadata": {},
     "output_type": "display_data"
    }
   ],
   "source": [
    "nan_cols = data.columns[data.isna().any()]\n",
    "null_col_values_focus = data[nan_cols].isna().mean() * 100\n",
    "\n",
    "plt.figure(figsize=(15, 7))\n",
    "sns.barplot(x=null_col_values_focus.index, y=null_col_values_focus.values)\n",
    "plt.ylabel('Percentage of Missing Values (%)')\n",
    "plt.title('Percentage of NaN Values by Column')\n",
    "plt.show()"
   ]
  },
  {
   "cell_type": "code",
   "execution_count": 19,
   "id": "02e7bc17-3fae-4f1e-996b-ba87c48e85ae",
   "metadata": {},
   "outputs": [
    {
     "data": {
      "text/plain": [
       "id                                            0\n",
       "Name                                          0\n",
       "Gender                                        0\n",
       "Age                                           0\n",
       "City                                          0\n",
       "Working Professional or Student               0\n",
       "Profession                                36630\n",
       "Academic Pressure                        112803\n",
       "Work Pressure                             27918\n",
       "CGPA                                     112802\n",
       "Study Satisfaction                       112803\n",
       "Job Satisfaction                          27910\n",
       "Sleep Duration                                0\n",
       "Dietary Habits                                4\n",
       "Degree                                        2\n",
       "Have you ever had suicidal thoughts ?         0\n",
       "Work/Study Hours                              0\n",
       "Financial Stress                              4\n",
       "Family History of Mental Illness              0\n",
       "Depression                                    0\n",
       "dtype: int64"
      ]
     },
     "execution_count": 19,
     "metadata": {},
     "output_type": "execute_result"
    }
   ],
   "source": [
    "data.isnull().sum()"
   ]
  },
  {
   "cell_type": "code",
   "execution_count": null,
   "id": "730d1059-5146-4e57-81be-a0564b538e42",
   "metadata": {},
   "outputs": [],
   "source": []
  },
  {
   "cell_type": "markdown",
   "id": "21c40e4e-d568-4fb6-85e6-1a744717b32c",
   "metadata": {},
   "source": [
    "### Data Visulization"
   ]
  },
  {
   "cell_type": "code",
   "execution_count": 71,
   "id": "dc0fb1e4-9efe-478d-b782-9b6520e5a961",
   "metadata": {},
   "outputs": [
    {
     "name": "stdout",
     "output_type": "stream",
     "text": [
      "Depression                         140700\n",
      "Gender                             140700\n",
      "Working Professional or Student    140700\n",
      "dtype: int64\n"
     ]
    }
   ],
   "source": [
    "#number of depressed individuals and whether they are male or female and wether they are a working professional or are in schoool.\n",
    "\n",
    "data_dep_vis = data[['Depression', 'Gender', 'Working Professional or Student']]\n",
    "\n",
    "depressed_data = data_dep_vis[data_dep_vis['Depression'] == 1]\n",
    "\n",
    "\n",
    "plt.figure(figsize=(10,6))\n",
    "plt.bar(data="
   ]
  },
  {
   "cell_type": "code",
   "execution_count": 72,
   "id": "81325a66-8fbf-4206-b9be-4204f8f4994b",
   "metadata": {},
   "outputs": [
    {
     "data": {
      "text/plain": [
       "count    140700.000000\n",
       "mean         40.388621\n",
       "std          12.384099\n",
       "min          18.000000\n",
       "25%          29.000000\n",
       "50%          42.000000\n",
       "75%          51.000000\n",
       "max          60.000000\n",
       "Name: Age, dtype: float64"
      ]
     },
     "execution_count": 72,
     "metadata": {},
     "output_type": "execute_result"
    }
   ],
   "source": [
    "#age distribution of depressed individuals\n",
    "\n",
    "data['Age'].describe()"
   ]
  },
  {
   "cell_type": "code",
   "execution_count": 75,
   "id": "f2599f76-c583-42b0-82f8-f54d2cf9951b",
   "metadata": {},
   "outputs": [
    {
     "data": {
      "image/png": "[encoded data removed]",
      "text/plain": [
       "<Figure size 1000x600 with 1 Axes>"
      ]
     },
     "metadata": {},
     "output_type": "display_data"
    }
   ],
   "source": [
    "data_age_hist = data[data['Depression'] == 1]\n",
    "\n",
    "plt.figure(figsize=(10, 6))\n",
    "plt.hist(data_age_hist['Age'], bins=10, color='skyblue', edgecolor='black')\n",
    "plt.xlabel(\"Age\")\n",
    "plt.ylabel(\"Frequency\")\n",
    "plt.title(\"Age Distribution of Depressed Individuals\")\n",
    "plt.show()"
   ]
  },
  {
   "cell_type": "code",
   "execution_count": 76,
   "id": "e5ca8a92-029c-48b3-a9ce-adc2cba34110",
   "metadata": {},
   "outputs": [
    {
     "data": {
      "text/plain": [
       "count    140700.000000\n",
       "mean          6.252679\n",
       "std           3.853615\n",
       "min           0.000000\n",
       "25%           3.000000\n",
       "50%           6.000000\n",
       "75%          10.000000\n",
       "max          12.000000\n",
       "Name: Work/Study Hours, dtype: float64"
      ]
     },
     "execution_count": 76,
     "metadata": {},
     "output_type": "execute_result"
    }
   ],
   "source": [
    "#histogram of study / work hours for depressed individuals\n",
    "\n",
    "data['Work/Study Hours'].describe()"
   ]
  },
  {
   "cell_type": "code",
   "execution_count": 82,
   "id": "231880c4-646f-49eb-bd34-f061f037ddc4",
   "metadata": {},
   "outputs": [
    {
     "data": {
      "image/png": "[encoded data removed]",
      "text/plain": [
       "<Figure size 1000x600 with 1 Axes>"
      ]
     },
     "metadata": {},
     "output_type": "display_data"
    }
   ],
   "source": [
    "data_hours_hist = data[data['Depression'] == 1]\n",
    "\n",
    "plt.figure(figsize=(10, 6))\n",
    "plt.hist(data_hours_hist['Work/Study Hours'], bins=10, color='rebeccapurple', edgecolor='black')\n",
    "plt.xlabel(\"Hours\")\n",
    "plt.ylabel(\"Frequency\")\n",
    "plt.title(\"Age Distribution of Depressed Individuals\")\n",
    "plt.show()"
   ]
  },
  {
   "cell_type": "code",
   "execution_count": null,
   "id": "4f8ecc13-7799-4502-b8e5-7942b7f84f0c",
   "metadata": {},
   "outputs": [],
   "source": []
  },
  {
   "cell_type": "markdown",
   "id": "285d8cd0-9293-41b1-b784-c63b5906b6d3",
   "metadata": {},
   "source": [
    "### Data Cleaning"
   ]
  },
  {
   "cell_type": "code",
   "execution_count": 20,
   "id": "dcac6a9a-906f-4d82-a5f7-a1f26881a578",
   "metadata": {},
   "outputs": [],
   "source": [
    "#When working with predictive modeling, you cannot use null values. There are 3 different approaches we can take to mitigate these values.\n",
    "#The first option would be to completely wipe out all rows that contain at least 1 null value. This should be a last resort approach as we want to be \n",
    "#able to use as much data as possible for the model. The second option would be to find the mean or median of the column (if numeric) and fill in\n",
    "#the nulls with that average value. This option is best if you have a large percentage of null values, but can throw off other statistics and models.\n",
    "#Lastly, similarly with the average value method, we can fill in the nulls randomly. Even character values could be randomized if there is a unique set\n",
    "#of different values. Again, this is not ideal unless there is a large portion of data missing. \n",
    "\n",
    "#Below we will determine the best route. "
   ]
  },
  {
   "cell_type": "code",
   "execution_count": 31,
   "id": "7f0ff527-21d0-40ca-aa90-649acc4be52f",
   "metadata": {},
   "outputs": [
    {
     "data": {
      "text/plain": [
       "array(['Chef', 'Teacher', nan, 'Business Analyst', 'Finanancial Analyst',\n",
       "       'Chemist', 'Electrician', 'Software Engineer', 'Data Scientist',\n",
       "       'Plumber', 'Marketing Manager', 'Accountant', 'Entrepreneur',\n",
       "       'HR Manager', 'UX/UI Designer', 'Content Writer',\n",
       "       'Educational Consultant', 'Civil Engineer', 'Manager',\n",
       "       'Pharmacist', 'Financial Analyst', 'Architect',\n",
       "       'Mechanical Engineer', 'Customer Support', 'Consultant', 'Judge',\n",
       "       'Researcher', 'Pilot', 'Graphic Designer', 'Travel Consultant',\n",
       "       'Digital Marketer', 'Lawyer', 'Research Analyst',\n",
       "       'Sales Executive', 'Doctor', 'Unemployed', 'Investment Banker',\n",
       "       'Family Consultant', 'B.Com', 'BE', 'Student', 'Yogesh', 'Dev',\n",
       "       'MBA', 'LLM', 'BCA', 'Academic', 'Profession', 'FamilyVirar',\n",
       "       'City Manager', 'BBA', 'Medical Doctor', 'Working Professional',\n",
       "       'MBBS', 'Patna', 'Unveil', 'B.Ed', 'Nagpur', 'Moderate', 'M.Ed',\n",
       "       'Analyst', 'Pranav', 'Visakhapatnam', 'PhD', 'Yuvraj'],\n",
       "      dtype=object)"
      ]
     },
     "execution_count": 31,
     "metadata": {},
     "output_type": "execute_result"
    }
   ],
   "source": [
    "#profession unique values\n",
    "data['Profession'].unique()"
   ]
  },
  {
   "cell_type": "markdown",
   "id": "688a9973-bd4f-4bf0-99fa-ed196f25783d",
   "metadata": {},
   "source": [
    "Based on the values here, we could easily fill in the 'nan' values with a random profession, but considering the context I plan to fill in the nan values with something like \"unemployeed\" or \"no profession\". "
   ]
  },
  {
   "cell_type": "code",
   "execution_count": 25,
   "id": "6d557bcd-3dd4-424e-baac-9bf90dee5df9",
   "metadata": {},
   "outputs": [
    {
     "data": {
      "text/plain": [
       "array([nan,  5.,  2.,  3.,  4.,  1.])"
      ]
     },
     "execution_count": 25,
     "metadata": {},
     "output_type": "execute_result"
    }
   ],
   "source": [
    "#academic pressure unique values\n",
    "data['Academic Pressure'].unique()"
   ]
  },
  {
   "cell_type": "markdown",
   "id": "38d603d0-7b14-45bc-9121-7016e175012e",
   "metadata": {},
   "source": [
    "Looks like the academic pressure may be a great depressive indicator, but we do have some nan values. Considering the context I believe we can fill in the 'nan' values with 0 as this would mean an individual has no academic pressure. "
   ]
  },
  {
   "cell_type": "code",
   "execution_count": 26,
   "id": "69e7205a-5c70-457e-aa99-1a6c31c9bcf1",
   "metadata": {},
   "outputs": [
    {
     "data": {
      "text/plain": [
       "array([ 5.,  4., nan,  1.,  2.,  3.])"
      ]
     },
     "execution_count": 26,
     "metadata": {},
     "output_type": "execute_result"
    }
   ],
   "source": [
    "#work pressure unique values\n",
    "data['Work Pressure'].unique()"
   ]
  },
  {
   "cell_type": "markdown",
   "id": "54262c5b-98ab-4084-8a4c-b2f7c3c78715",
   "metadata": {},
   "source": [
    "Similary with the academic pressure, we should be able to replace those 'nan' values with 0."
   ]
  },
  {
   "cell_type": "code",
   "execution_count": 28,
   "id": "21f6403b-6dd5-416d-b172-b6180a73528d",
   "metadata": {
    "scrolled": true
   },
   "outputs": [
    {
     "data": {
      "text/plain": [
       "array([    nan,  8.97  ,  5.9   ,  7.03  ,  5.59  ,  8.13  ,  5.7   ,\n",
       "        9.54  ,  8.04  ,  9.79  ,  8.38  ,  6.1   ,  7.04  ,  8.52  ,\n",
       "        5.64  ,  8.58  ,  6.51  ,  7.25  ,  7.83  ,  9.93  ,  8.74  ,\n",
       "        6.73  ,  5.57  ,  8.59  ,  7.1   ,  6.08  ,  5.74  ,  9.86  ,\n",
       "        6.7   ,  6.21  ,  5.87  ,  6.37  ,  9.72  ,  5.88  ,  9.56  ,\n",
       "        6.99  ,  5.24  ,  9.21  ,  7.85  ,  6.95  ,  5.86  ,  7.92  ,\n",
       "        9.66  ,  8.94  ,  9.71  ,  7.87  ,  5.6   ,  7.9   ,  5.46  ,\n",
       "        6.79  ,  8.7   ,  7.38  ,  8.5   ,  7.09  ,  9.82  ,  8.89  ,\n",
       "        7.94  ,  9.11  ,  6.75  ,  7.53  ,  9.49  ,  9.01  ,  7.64  ,\n",
       "        5.27  ,  6.    ,  9.44  ,  5.75  ,  7.51  ,  9.05  ,  6.38  ,\n",
       "        8.95  ,  9.88  ,  5.32  ,  6.27  ,  7.7   ,  8.1   ,  9.59  ,\n",
       "        8.96  ,  5.51  ,  7.43  ,  8.79  ,  9.95  ,  5.37  ,  6.86  ,\n",
       "        8.32  ,  9.74  ,  5.66  ,  7.48  ,  8.23  ,  8.81  ,  6.03  ,\n",
       "        5.56  ,  5.68  ,  5.14  ,  7.61  ,  6.17  ,  8.17  ,  9.87  ,\n",
       "        8.75  ,  6.16  ,  9.5   ,  7.99  ,  5.67  ,  8.92  ,  6.19  ,\n",
       "        5.76  ,  6.25  ,  5.11  ,  5.58  ,  5.65  ,  9.89  ,  8.03  ,\n",
       "        6.61  ,  9.41  ,  8.64  ,  7.21  ,  8.28  ,  6.04  ,  9.13  ,\n",
       "        8.08  ,  9.96  ,  5.12  ,  8.35  ,  7.07  ,  9.6   ,  9.24  ,\n",
       "        8.54  ,  8.78  ,  8.93  ,  8.91  ,  9.04  ,  6.83  ,  5.85  ,\n",
       "        7.74  ,  6.41  ,  8.9   ,  7.75  ,  7.88  ,  5.42  ,  7.52  ,\n",
       "        7.68  ,  8.4   ,  9.39  ,  6.84  ,  5.99  ,  8.62  ,  8.53  ,\n",
       "        7.47  ,  6.78  ,  6.42  ,  9.92  ,  8.39  ,  5.89  ,  7.22  ,\n",
       "        6.81  ,  9.02  ,  9.97  ,  9.63  ,  9.67  ,  5.41  ,  7.27  ,\n",
       "        6.05  ,  6.85  ,  9.33  ,  5.81  ,  6.53  ,  5.98  ,  6.02  ,\n",
       "        6.74  ,  5.26  ,  7.72  ,  7.39  ,  8.43  ,  9.34  ,  5.44  ,\n",
       "        5.82  ,  5.72  ,  8.19  ,  8.44  ,  8.98  ,  9.37  ,  5.8   ,\n",
       "        7.28  ,  7.6   ,  7.91  ,  9.17  ,  7.46  ,  9.43  ,  9.91  ,\n",
       "        9.36  ,  5.16  ,  7.08  ,  9.26  ,  8.83  , 10.    ,  7.8   ,\n",
       "        9.46  ,  6.63  ,  7.24  ,  6.47  ,  7.77  ,  5.06  ,  7.17  ,\n",
       "        8.24  ,  6.88  ,  9.03  ,  5.08  ,  5.45  ,  8.46  ,  9.19  ,\n",
       "        6.36  ,  8.73  ,  7.11  ,  9.12  ,  9.4   ,  8.11  ,  9.98  ,\n",
       "        5.55  ,  8.61  ,  8.14  ,  6.89  ,  9.84  ,  5.48  ,  8.21  ,\n",
       "        7.82  ,  8.55  ,  5.79  ,  8.77  ,  8.29  ,  6.92  ,  7.37  ,\n",
       "        9.7   ,  6.26  ,  7.26  ,  7.5   ,  6.82  ,  7.15  ,  5.77  ,\n",
       "        5.91  ,  5.1   ,  7.71  ,  9.06  ,  5.71  ,  5.84  ,  9.42  ,\n",
       "        6.23  ,  6.29  ,  5.25  ,  9.69  ,  9.9   ,  6.39  ,  8.09  ,\n",
       "        5.83  ,  5.47  ,  6.56  ,  8.71  ,  9.94  ,  6.69  ,  5.52  ,\n",
       "        7.3   ,  7.02  ,  6.33  ,  8.07  ,  8.37  ,  8.    ,  7.79  ,\n",
       "        8.65  ,  6.28  ,  7.35  ,  8.69  ,  7.12  ,  7.32  ,  7.13  ,\n",
       "        5.97  ,  5.09  ,  6.91  ,  6.76  ,  6.52  ,  7.45  ,  8.56  ,\n",
       "        6.5   ,  8.63  ,  8.27  ,  8.49  ,  6.59  ,  9.29  ,  5.3   ,\n",
       "        7.06  ,  5.38  ,  6.65  ,  9.16  ,  8.01  ,  8.25  ,  8.02  ,\n",
       "        8.47  ,  7.34  ,  8.88  ,  7.14  ,  8.42  ,  5.17  ,  9.1   ,\n",
       "        7.49  ,  9.85  ,  7.42  ,  9.31  ,  6.35  ,  7.    ,  5.39  ,\n",
       "        5.61  ,  9.78  ,  9.25  ,  5.69  ,  9.47  ,  8.16  ,  7.23  ,\n",
       "        6.46  ,  8.26  ,  6.32  ,  6.77  ,  8.85  ,  5.03  ,  7.65  ,\n",
       "        5.78  ,  6.24  ,  5.35  ,  6.06  ,  7.78  ,  6.64  ,  7.0625,\n",
       "        6.98  ,  6.44  ,  6.09  ])"
      ]
     },
     "execution_count": 28,
     "metadata": {},
     "output_type": "execute_result"
    }
   ],
   "source": [
    "#Cumulative Grade Point Average unique values\n",
    "data['CGPA'].unique()"
   ]
  },
  {
   "cell_type": "markdown",
   "id": "a466f375-5508-4bca-9407-afe078623e1a",
   "metadata": {},
   "source": [
    "The CGPA or Cumulative Grade Point Average is a good indicator of the students overall academic performance. "
   ]
  },
  {
   "cell_type": "code",
   "execution_count": 32,
   "id": "ba03226c-b7d3-45c8-9d82-ea11844fde67",
   "metadata": {},
   "outputs": [
    {
     "data": {
      "text/plain": [
       "array([nan,  2.,  5.,  3.,  4.,  1.])"
      ]
     },
     "execution_count": 32,
     "metadata": {},
     "output_type": "execute_result"
    }
   ],
   "source": [
    "#Study Satisfaction unique values\n",
    "data['Study Satisfaction'].unique()"
   ]
  },
  {
   "cell_type": "code",
   "execution_count": 33,
   "id": "0417b3ae-eb03-40bc-b022-4f5fe1dd6baa",
   "metadata": {},
   "outputs": [
    {
     "data": {
      "text/plain": [
       "array([ 2.,  3., nan,  1.,  5.,  4.])"
      ]
     },
     "execution_count": 33,
     "metadata": {},
     "output_type": "execute_result"
    }
   ],
   "source": [
    "#Job Satisfaction unique values\n",
    "data['Job Satisfaction'].unique()"
   ]
  },
  {
   "cell_type": "code",
   "execution_count": 56,
   "id": "d9cef66e-0fab-446c-8792-3f92debd1303",
   "metadata": {},
   "outputs": [
    {
     "data": {
      "text/plain": [
       "array(['Healthy', 'Unhealthy', 'Moderate', 'Yes', 'Pratham', 'BSc',\n",
       "       'Gender', '3', 'More Healthy', 'Less than Healthy', 'Mihir', '1.0',\n",
       "       'Hormonal', 'Electrician', nan, 'No Healthy', 'Less Healthy',\n",
       "       'M.Tech', 'Vegas', 'No', 'Male', 'Indoor', 'Class 12', '2'],\n",
       "      dtype=object)"
      ]
     },
     "execution_count": 56,
     "metadata": {},
     "output_type": "execute_result"
    }
   ],
   "source": [
    "#Dietary habits unique values\n",
    "data['Dietary Habits'].unique()"
   ]
  },
  {
   "cell_type": "markdown",
   "id": "670ceec0-dd90-4e4d-9636-b2bb72a7f908",
   "metadata": {},
   "source": [
    "Based on these values, we will have to dig in more to discover the best route with this column or decide that it may not be useful. "
   ]
  },
  {
   "cell_type": "code",
   "execution_count": 63,
   "id": "319ab80e-a674-44ac-bf97-2e4c37e30854",
   "metadata": {
    "scrolled": true
   },
   "outputs": [
    {
     "data": {
      "text/plain": [
       "array(['BHM', 'LLB', 'B.Pharm', 'BBA', 'MCA', 'MD', 'BSc', 'ME', 'B.Arch',\n",
       "       'BCA', 'BE', 'MA', 'B.Ed', 'B.Com', 'MBA', 'M.Com', 'MHM', 'BA',\n",
       "       'Class 12', 'M.Tech', 'PhD', 'M.Ed', 'MSc', 'B.Tech', 'LLM',\n",
       "       'MBBS', 'M.Pharm', 'UX/UI Designer', 'MPA', 'BH', 'Nalini', 'BEd',\n",
       "       'B.Sc', 'Veda', 'Bhopal', 'S.Tech', 'Degree', '20', 'Class 11',\n",
       "       'H_Pharm', 'M', 'P.Com', 'BPharm', 'Business Analyst', 'M.Arch',\n",
       "       'LL.Com', 'Data Scientist', 'MPharm', 'L.Ed', 'P.Pharm', 'Kalyan',\n",
       "       'Unite', 'BArch', 'HR Manager', 'Badhya', 'S.Pharm', 'LLBA',\n",
       "       'Vrinda', 'M. Business Analyst', 'Bhavesh', '0', 'LLCom', '29',\n",
       "       'MTech', 'Vivaan', 'BPA', 'Plumber', '5.61', 'Brit', 'B.03',\n",
       "       'Ritik', '5.56', 'MEd', 'B', 'B BA', '7.06', 'B.B.Arch', 'ACA',\n",
       "       'Brithika', 'CGPA', '24', 'M_Tech', 'Pihu', 'BB', 'Jhanvi',\n",
       "       'LLTech', 'Aarav', 'Entrepreneur', '8.56', 'LHM', 'Lata', 'S.Arch',\n",
       "       'Marsh', 'HCA', '5.88', 'B.Student', 'LL B.Ed', 'M.S', 'Navya',\n",
       "       'Mahika', nan, 'K.Ed', 'B.3.79', 'Mthanya', 'Working Professional',\n",
       "       'Esha', 'LLS', 'LLEd', 'E.Tech', 'Doctor', 'N.Pharm', 'LCA',\n",
       "       'B B.Com', 'RCA', 'Mihir', 'Advait'], dtype=object)"
      ]
     },
     "execution_count": 63,
     "metadata": {},
     "output_type": "execute_result"
    }
   ],
   "source": [
    "#Degree unique values\n",
    "data['Degree'].unique()"
   ]
  },
  {
   "cell_type": "code",
   "execution_count": 64,
   "id": "511c62d9-fd40-47e5-bb5c-b93a42ba0e51",
   "metadata": {},
   "outputs": [
    {
     "data": {
      "text/plain": [
       "Class 12    14729\n",
       "B.Ed        11691\n",
       "B.Arch       8742\n",
       "B.Com        8113\n",
       "B.Pharm      5856\n",
       "BCA          5739\n",
       "M.Ed         5668\n",
       "MCA          5234\n",
       "BBA          5030\n",
       "BSc          5027\n",
       "Name: Degree, dtype: int64"
      ]
     },
     "execution_count": 64,
     "metadata": {},
     "output_type": "execute_result"
    }
   ],
   "source": [
    "#Degree unique value counts top\n",
    "degree_nans = data['Degree'].value_counts(ascending=False)\n",
    "degree_nans.head(10)"
   ]
  },
  {
   "cell_type": "code",
   "execution_count": 65,
   "id": "61ad32f1-694c-4372-81d6-6e6d70302dad",
   "metadata": {},
   "outputs": [
    {
     "data": {
      "text/plain": [
       "Vrinda      1\n",
       "Pihu        1\n",
       "M_Tech      1\n",
       "24          1\n",
       "CGPA        1\n",
       "Brithika    1\n",
       "ACA         1\n",
       "B.B.Arch    1\n",
       "7.06        1\n",
       "B BA        1\n",
       "Name: Degree, dtype: int64"
      ]
     },
     "execution_count": 65,
     "metadata": {},
     "output_type": "execute_result"
    }
   ],
   "source": [
    "#Degree unique value counts bottom\n",
    "degree_nans = data['Degree'].value_counts(ascending=True)\n",
    "degree_nans.head(10)"
   ]
  },
  {
   "cell_type": "markdown",
   "id": "b7a3b679-8f7d-403d-a97c-ffc9f689c94a",
   "metadata": {},
   "source": [
    "Due to the variety of degrees, assigning these unique ids for modeling will come in handy later on. "
   ]
  },
  {
   "cell_type": "code",
   "execution_count": 57,
   "id": "58563a61-dda2-4842-9ea2-3ce5be1865d6",
   "metadata": {},
   "outputs": [
    {
     "data": {
      "text/plain": [
       "array([ 2.,  3.,  1.,  4.,  5., nan])"
      ]
     },
     "execution_count": 57,
     "metadata": {},
     "output_type": "execute_result"
    }
   ],
   "source": [
    "#Financial Stress unique values\n",
    "data['Financial Stress'].unique()"
   ]
  },
  {
   "cell_type": "markdown",
   "id": "ff13d4a2-9957-4c8a-a5c9-4b2326cb1b34",
   "metadata": {},
   "source": [
    "Thankfully this stress indicator is farely clean and we should be able to replace the nan values with 0."
   ]
  },
  {
   "cell_type": "code",
   "execution_count": 83,
   "id": "9f9d0a8d-f3a9-4f75-a711-7924331a942b",
   "metadata": {},
   "outputs": [],
   "source": [
    "#start here:\n",
    "#work on cleaning out nan values across the board or figuring out which columns we want to use or \"save\" for modeling\n",
    "\n",
    "\n",
    "#also next for cleaning will be trying to get the sleep hours out of the column "
   ]
  },
  {
   "cell_type": "code",
   "execution_count": 89,
   "id": "d14e5d43-4a1f-46ae-a04b-f278e71d3e58",
   "metadata": {},
   "outputs": [
    {
     "data": {
      "text/plain": [
       "array(['More than 8 hours', 'Less than 5 hours', '5-6 hours', '7-8 hours',\n",
       "       'Sleep_Duration', '1-2 hours', '6-8 hours', '4-6 hours',\n",
       "       '6-7 hours', '10-11 hours', '8-9 hours', '40-45 hours',\n",
       "       '9-11 hours', '2-3 hours', '3-4 hours', 'Moderate', '55-66 hours',\n",
       "       '4-5 hours', '9-6 hours', '1-3 hours', 'Indore', '45', '1-6 hours',\n",
       "       '35-36 hours', '8 hours', 'No', '10-6 hours', 'than 5 hours',\n",
       "       '49 hours', 'Unhealthy', 'Work_Study_Hours', '3-6 hours',\n",
       "       '45-48 hours', '9-5', 'Pune', '9-5 hours'], dtype=object)"
      ]
     },
     "execution_count": 89,
     "metadata": {},
     "output_type": "execute_result"
    }
   ],
   "source": [
    "#sleep duration unique research\n",
    "data['Sleep Duration'].unique()"
   ]
  },
  {
   "cell_type": "code",
   "execution_count": 91,
   "id": "54a5a4f4-e2d8-4add-b47c-02b895c39161",
   "metadata": {},
   "outputs": [
    {
     "data": {
      "text/plain": [
       "Less than 5 hours    38784\n",
       "7-8 hours            36969\n",
       "More than 8 hours    32726\n",
       "5-6 hours            32142\n",
       "3-4 hours               12\n",
       "6-7 hours                8\n",
       "4-5 hours                7\n",
       "2-3 hours                5\n",
       "4-6 hours                5\n",
       "6-8 hours                4\n",
       "1-6 hours                4\n",
       "No                       4\n",
       "9-11 hours               2\n",
       "10-11 hours              2\n",
       "Sleep_Duration           2\n",
       "Unhealthy                2\n",
       "45                       2\n",
       "8-9 hours                2\n",
       "10-6 hours               1\n",
       "9-5                      1\n",
       "45-48 hours              1\n",
       "3-6 hours                1\n",
       "Work_Study_Hours         1\n",
       "49 hours                 1\n",
       "than 5 hours             1\n",
       "Pune                     1\n",
       "9-6 hours                1\n",
       "8 hours                  1\n",
       "35-36 hours              1\n",
       "Indore                   1\n",
       "1-3 hours                1\n",
       "55-66 hours              1\n",
       "Moderate                 1\n",
       "40-45 hours              1\n",
       "1-2 hours                1\n",
       "9-5 hours                1\n",
       "Name: Sleep Duration, dtype: int64"
      ]
     },
     "execution_count": 91,
     "metadata": {},
     "output_type": "execute_result"
    }
   ],
   "source": [
    "sleep_data = data['Sleep Duration'].value_counts(ascending=False)\n",
    "sleep_data"
   ]
  },
  {
   "cell_type": "markdown",
   "id": "90fc6b03-0019-456b-91da-fc0673bb3b26",
   "metadata": {},
   "source": [
    "Again, we have few options on how to deal with these values. In order to make them useful for modeling, we will need to normalize these values. The pro here is that there a bulk of the values are set by 4 different values. The con here is that another 32 values need to be parsed and assessed on how to properly assign a numeric value. \n",
    "\n",
    "I think the best approach to start would be to do \"case when\" for each value we see here and give it a best guess. Example 55-66 maybe just average to 60.5 hours or round down to 60. Or moderate we could do 6 hours? Some of the odd-ball string values we can just put in an average. "
   ]
  },
  {
   "cell_type": "code",
   "execution_count": null,
   "id": "a6c09995-6520-4675-ad76-a4b298cdb678",
   "metadata": {},
   "outputs": [],
   "source": []
  },
  {
   "cell_type": "code",
   "execution_count": null,
   "id": "a58f5c70-7245-4f0a-88b1-dfe58dcebd96",
   "metadata": {},
   "outputs": [],
   "source": []
  }
 ],
 "metadata": {
  "kernelspec": {
   "display_name": "Python 3 (ipykernel)",
   "language": "python",
   "name": "python3"
  },
  "language_info": {
   "codemirror_mode": {
    "name": "ipython",
    "version": 3
   },
   "file_extension": ".py",
   "mimetype": "text/x-python",
   "name": "python",
   "nbconvert_exporter": "python",
   "pygments_lexer": "ipython3",
   "version": "3.10.11"
  }
 },
 "nbformat": 4,
 "nbformat_minor": 5
}
