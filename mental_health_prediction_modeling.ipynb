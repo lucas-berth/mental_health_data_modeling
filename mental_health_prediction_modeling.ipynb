{
 "cells": [
  {
   "cell_type": "code",
   "execution_count": 121,
   "id": "3b18b486-e17e-4571-8775-e8df51bcba47",
   "metadata": {},
   "outputs": [],
   "source": [
    "#www.kaggle.com/competitions/playground-series-s4e11/overview/$citation"
   ]
  },
  {
   "cell_type": "code",
   "execution_count": 122,
   "id": "b6816075-c1d1-4a29-9b8e-88d6a92f4eb5",
   "metadata": {},
   "outputs": [],
   "source": [
    "#pip install xgboost"
   ]
  },
  {
   "cell_type": "code",
   "execution_count": 123,
   "id": "f6d76efd-2576-4e25-89c3-e22d6f0b10dc",
   "metadata": {
    "scrolled": true
   },
   "outputs": [],
   "source": [
    "#pip install nbstripout"
   ]
  },
  {
   "cell_type": "code",
   "execution_count": 124,
   "id": "a66a3c0b-340e-4564-9c80-6ab2be3bc7cc",
   "metadata": {},
   "outputs": [],
   "source": [
    "#import packages\n",
    "\n",
    "#EDA / Visualization\n",
    "import pandas as pd\n",
    "import numpy as np\n",
    "import seaborn as sns\n",
    "import matplotlib.pyplot as plt\n",
    "\n",
    "#data modeling\n",
    "from sklearn.preprocessing import StandardScaler\n",
    "from sklearn.preprocessing import MinMaxScaler, LabelEncoder\n",
    "from sklearn.model_selection import train_test_split\n",
    "from sklearn.neighbors import KNeighborsClassifier\n",
    "from sklearn.metrics import accuracy_score, classification_report, confusion_matrix\n",
    "from sklearn.linear_model import LogisticRegression\n",
    "from sklearn import metrics\n",
    "from sklearn.ensemble import RandomForestClassifier\n",
    "from sklearn.metrics import accuracy_score, confusion_matrix, precision_score, recall_score, ConfusionMatrixDisplay\n",
    "from sklearn.model_selection import RandomizedSearchCV, train_test_split\n",
    "from sklearn.tree import DecisionTreeClassifier\n",
    "from scipy.stats import randint\n",
    "from sklearn import tree\n",
    "import xgboost as xgb\n",
    "from sklearn.metrics import mean_squared_error\n",
    "from sklearn.ensemble import RandomForestClassifier, VotingClassifier\n",
    "from sklearn.svm import SVC\n",
    "from sklearn.ensemble import StackingClassifier\n",
    "\n",
    "#for github\n",
    "import nbstripout\n",
    "\n",
    "#for packaging model\n",
    "import joblib"
   ]
  },
  {
   "cell_type": "markdown",
   "id": "e8db4fb5-e911-4cd1-95ae-57b6c4b0f14e",
   "metadata": {},
   "source": [
    "# EDA"
   ]
  },
  {
   "cell_type": "code",
   "execution_count": 125,
   "id": "84f872da-a6d5-423b-944f-7f491487b411",
   "metadata": {},
   "outputs": [],
   "source": [
    "#import training data and start exploratory data analysis\n",
    "data = pd.read_csv('train.csv')"
   ]
  },
  {
   "cell_type": "code",
   "execution_count": 126,
   "id": "6c1df0ae-a74d-4a40-8534-d669d4bc9af0",
   "metadata": {},
   "outputs": [
    {
     "data": {
      "text/html": [
       "<div>\n",
       "<style scoped>\n",
       "    .dataframe tbody tr th:only-of-type {\n",
       "        vertical-align: middle;\n",
       "    }\n",
       "\n",
       "    .dataframe tbody tr th {\n",
       "        vertical-align: top;\n",
       "    }\n",
       "\n",
       "    .dataframe thead th {\n",
       "        text-align: right;\n",
       "    }\n",
       "</style>\n",
       "<table border=\"1\" class=\"dataframe\">\n",
       "  <thead>\n",
       "    <tr style=\"text-align: right;\">\n",
       "      <th></th>\n",
       "      <th>id</th>\n",
       "      <th>Name</th>\n",
       "      <th>Gender</th>\n",
       "      <th>Age</th>\n",
       "      <th>City</th>\n",
       "      <th>Working Professional or Student</th>\n",
       "      <th>Profession</th>\n",
       "      <th>Academic Pressure</th>\n",
       "      <th>Work Pressure</th>\n",
       "      <th>CGPA</th>\n",
       "      <th>Study Satisfaction</th>\n",
       "      <th>Job Satisfaction</th>\n",
       "      <th>Sleep Duration</th>\n",
       "      <th>Dietary Habits</th>\n",
       "      <th>Degree</th>\n",
       "      <th>Have you ever had suicidal thoughts ?</th>\n",
       "      <th>Work/Study Hours</th>\n",
       "      <th>Financial Stress</th>\n",
       "      <th>Family History of Mental Illness</th>\n",
       "      <th>Depression</th>\n",
       "    </tr>\n",
       "  </thead>\n",
       "  <tbody>\n",
       "    <tr>\n",
       "      <th>0</th>\n",
       "      <td>0</td>\n",
       "      <td>Aaradhya</td>\n",
       "      <td>Female</td>\n",
       "      <td>49.0</td>\n",
       "      <td>Ludhiana</td>\n",
       "      <td>Working Professional</td>\n",
       "      <td>Chef</td>\n",
       "      <td>NaN</td>\n",
       "      <td>5.0</td>\n",
       "      <td>NaN</td>\n",
       "      <td>NaN</td>\n",
       "      <td>2.0</td>\n",
       "      <td>More than 8 hours</td>\n",
       "      <td>Healthy</td>\n",
       "      <td>BHM</td>\n",
       "      <td>No</td>\n",
       "      <td>1.0</td>\n",
       "      <td>2.0</td>\n",
       "      <td>No</td>\n",
       "      <td>0</td>\n",
       "    </tr>\n",
       "    <tr>\n",
       "      <th>1</th>\n",
       "      <td>1</td>\n",
       "      <td>Vivan</td>\n",
       "      <td>Male</td>\n",
       "      <td>26.0</td>\n",
       "      <td>Varanasi</td>\n",
       "      <td>Working Professional</td>\n",
       "      <td>Teacher</td>\n",
       "      <td>NaN</td>\n",
       "      <td>4.0</td>\n",
       "      <td>NaN</td>\n",
       "      <td>NaN</td>\n",
       "      <td>3.0</td>\n",
       "      <td>Less than 5 hours</td>\n",
       "      <td>Unhealthy</td>\n",
       "      <td>LLB</td>\n",
       "      <td>Yes</td>\n",
       "      <td>7.0</td>\n",
       "      <td>3.0</td>\n",
       "      <td>No</td>\n",
       "      <td>1</td>\n",
       "    </tr>\n",
       "    <tr>\n",
       "      <th>2</th>\n",
       "      <td>2</td>\n",
       "      <td>Yuvraj</td>\n",
       "      <td>Male</td>\n",
       "      <td>33.0</td>\n",
       "      <td>Visakhapatnam</td>\n",
       "      <td>Student</td>\n",
       "      <td>NaN</td>\n",
       "      <td>5.0</td>\n",
       "      <td>NaN</td>\n",
       "      <td>8.97</td>\n",
       "      <td>2.0</td>\n",
       "      <td>NaN</td>\n",
       "      <td>5-6 hours</td>\n",
       "      <td>Healthy</td>\n",
       "      <td>B.Pharm</td>\n",
       "      <td>Yes</td>\n",
       "      <td>3.0</td>\n",
       "      <td>1.0</td>\n",
       "      <td>No</td>\n",
       "      <td>1</td>\n",
       "    </tr>\n",
       "    <tr>\n",
       "      <th>3</th>\n",
       "      <td>3</td>\n",
       "      <td>Yuvraj</td>\n",
       "      <td>Male</td>\n",
       "      <td>22.0</td>\n",
       "      <td>Mumbai</td>\n",
       "      <td>Working Professional</td>\n",
       "      <td>Teacher</td>\n",
       "      <td>NaN</td>\n",
       "      <td>5.0</td>\n",
       "      <td>NaN</td>\n",
       "      <td>NaN</td>\n",
       "      <td>1.0</td>\n",
       "      <td>Less than 5 hours</td>\n",
       "      <td>Moderate</td>\n",
       "      <td>BBA</td>\n",
       "      <td>Yes</td>\n",
       "      <td>10.0</td>\n",
       "      <td>1.0</td>\n",
       "      <td>Yes</td>\n",
       "      <td>1</td>\n",
       "    </tr>\n",
       "    <tr>\n",
       "      <th>4</th>\n",
       "      <td>4</td>\n",
       "      <td>Rhea</td>\n",
       "      <td>Female</td>\n",
       "      <td>30.0</td>\n",
       "      <td>Kanpur</td>\n",
       "      <td>Working Professional</td>\n",
       "      <td>Business Analyst</td>\n",
       "      <td>NaN</td>\n",
       "      <td>1.0</td>\n",
       "      <td>NaN</td>\n",
       "      <td>NaN</td>\n",
       "      <td>1.0</td>\n",
       "      <td>5-6 hours</td>\n",
       "      <td>Unhealthy</td>\n",
       "      <td>BBA</td>\n",
       "      <td>Yes</td>\n",
       "      <td>9.0</td>\n",
       "      <td>4.0</td>\n",
       "      <td>Yes</td>\n",
       "      <td>0</td>\n",
       "    </tr>\n",
       "  </tbody>\n",
       "</table>\n",
       "</div>"
      ],
      "text/plain": [
       "   id      Name  Gender   Age           City Working Professional or Student  \\\n",
       "0   0  Aaradhya  Female  49.0       Ludhiana            Working Professional   \n",
       "1   1     Vivan    Male  26.0       Varanasi            Working Professional   \n",
       "2   2    Yuvraj    Male  33.0  Visakhapatnam                         Student   \n",
       "3   3    Yuvraj    Male  22.0         Mumbai            Working Professional   \n",
       "4   4      Rhea  Female  30.0         Kanpur            Working Professional   \n",
       "\n",
       "         Profession  Academic Pressure  Work Pressure  CGPA  \\\n",
       "0              Chef                NaN            5.0   NaN   \n",
       "1           Teacher                NaN            4.0   NaN   \n",
       "2               NaN                5.0            NaN  8.97   \n",
       "3           Teacher                NaN            5.0   NaN   \n",
       "4  Business Analyst                NaN            1.0   NaN   \n",
       "\n",
       "   Study Satisfaction  Job Satisfaction     Sleep Duration Dietary Habits  \\\n",
       "0                 NaN               2.0  More than 8 hours        Healthy   \n",
       "1                 NaN               3.0  Less than 5 hours      Unhealthy   \n",
       "2                 2.0               NaN          5-6 hours        Healthy   \n",
       "3                 NaN               1.0  Less than 5 hours       Moderate   \n",
       "4                 NaN               1.0          5-6 hours      Unhealthy   \n",
       "\n",
       "    Degree Have you ever had suicidal thoughts ?  Work/Study Hours  \\\n",
       "0      BHM                                    No               1.0   \n",
       "1      LLB                                   Yes               7.0   \n",
       "2  B.Pharm                                   Yes               3.0   \n",
       "3      BBA                                   Yes              10.0   \n",
       "4      BBA                                   Yes               9.0   \n",
       "\n",
       "   Financial Stress Family History of Mental Illness  Depression  \n",
       "0               2.0                               No           0  \n",
       "1               3.0                               No           1  \n",
       "2               1.0                               No           1  \n",
       "3               1.0                              Yes           1  \n",
       "4               4.0                              Yes           0  "
      ]
     },
     "execution_count": 126,
     "metadata": {},
     "output_type": "execute_result"
    }
   ],
   "source": [
    "data.head()"
   ]
  },
  {
   "cell_type": "markdown",
   "id": "3ac4c3de-2e75-491b-981e-0adac74e5ac1",
   "metadata": {},
   "source": [
    "### Data Dictionary"
   ]
  },
  {
   "cell_type": "code",
   "execution_count": 127,
   "id": "279b6c6b-9533-4b40-9bd6-4243aac9d962",
   "metadata": {},
   "outputs": [],
   "source": [
    "#Explain all the columns and their data types\n",
    "\n"
   ]
  },
  {
   "cell_type": "code",
   "execution_count": 128,
   "id": "88eb3b58-6108-4463-895c-3d5647beb53f",
   "metadata": {},
   "outputs": [
    {
     "data": {
      "text/plain": [
       "Index(['id', 'Name', 'Gender', 'Age', 'City',\n",
       "       'Working Professional or Student', 'Profession', 'Academic Pressure',\n",
       "       'Work Pressure', 'CGPA', 'Study Satisfaction', 'Job Satisfaction',\n",
       "       'Sleep Duration', 'Dietary Habits', 'Degree',\n",
       "       'Have you ever had suicidal thoughts ?', 'Work/Study Hours',\n",
       "       'Financial Stress', 'Family History of Mental Illness', 'Depression'],\n",
       "      dtype='object')"
      ]
     },
     "execution_count": 128,
     "metadata": {},
     "output_type": "execute_result"
    }
   ],
   "source": [
    "data.columns"
   ]
  },
  {
   "cell_type": "code",
   "execution_count": 129,
   "id": "4aca06c5-6689-4bdc-a9b9-d6d14c5c1d9e",
   "metadata": {},
   "outputs": [
    {
     "data": {
      "text/plain": [
       "id                                       140700\n",
       "Name                                     140700\n",
       "Gender                                   140700\n",
       "Age                                      140700\n",
       "City                                     140700\n",
       "Working Professional or Student          140700\n",
       "Profession                               104070\n",
       "Academic Pressure                         27897\n",
       "Work Pressure                            112782\n",
       "CGPA                                      27898\n",
       "Study Satisfaction                        27897\n",
       "Job Satisfaction                         112790\n",
       "Sleep Duration                           140700\n",
       "Dietary Habits                           140696\n",
       "Degree                                   140698\n",
       "Have you ever had suicidal thoughts ?    140700\n",
       "Work/Study Hours                         140700\n",
       "Financial Stress                         140696\n",
       "Family History of Mental Illness         140700\n",
       "Depression                               140700\n",
       "dtype: int64"
      ]
     },
     "execution_count": 129,
     "metadata": {},
     "output_type": "execute_result"
    }
   ],
   "source": [
    "data.count()"
   ]
  },
  {
   "cell_type": "code",
   "execution_count": 130,
   "id": "013c25ab-3583-44b9-aca3-3a046a99702a",
   "metadata": {},
   "outputs": [
    {
     "data": {
      "image/png": "[encoded data removed]",
      "text/plain": [
       "<Figure size 1500x700 with 1 Axes>"
      ]
     },
     "metadata": {},
     "output_type": "display_data"
    }
   ],
   "source": [
    "nan_cols = data.columns[data.isna().any()]\n",
    "null_col_values_focus = data[nan_cols].isna().mean() * 100\n",
    "\n",
    "plt.figure(figsize=(15, 7))\n",
    "sns.barplot(x=null_col_values_focus.index, y=null_col_values_focus.values)\n",
    "plt.ylabel('Percentage of Missing Values (%)')\n",
    "plt.title('Percentage of NaN Values by Column')\n",
    "plt.show()"
   ]
  },
  {
   "cell_type": "code",
   "execution_count": 131,
   "id": "02e7bc17-3fae-4f1e-996b-ba87c48e85ae",
   "metadata": {},
   "outputs": [
    {
     "data": {
      "text/plain": [
       "id                                            0\n",
       "Name                                          0\n",
       "Gender                                        0\n",
       "Age                                           0\n",
       "City                                          0\n",
       "Working Professional or Student               0\n",
       "Profession                                36630\n",
       "Academic Pressure                        112803\n",
       "Work Pressure                             27918\n",
       "CGPA                                     112802\n",
       "Study Satisfaction                       112803\n",
       "Job Satisfaction                          27910\n",
       "Sleep Duration                                0\n",
       "Dietary Habits                                4\n",
       "Degree                                        2\n",
       "Have you ever had suicidal thoughts ?         0\n",
       "Work/Study Hours                              0\n",
       "Financial Stress                              4\n",
       "Family History of Mental Illness              0\n",
       "Depression                                    0\n",
       "dtype: int64"
      ]
     },
     "execution_count": 131,
     "metadata": {},
     "output_type": "execute_result"
    }
   ],
   "source": [
    "data.isnull().sum()"
   ]
  },
  {
   "cell_type": "code",
   "execution_count": null,
   "id": "730d1059-5146-4e57-81be-a0564b538e42",
   "metadata": {},
   "outputs": [],
   "source": []
  },
  {
   "cell_type": "markdown",
   "id": "21c40e4e-d568-4fb6-85e6-1a744717b32c",
   "metadata": {},
   "source": [
    "### Data Visulization"
   ]
  },
  {
   "cell_type": "code",
   "execution_count": 132,
   "id": "dc0fb1e4-9efe-478d-b782-9b6520e5a961",
   "metadata": {},
   "outputs": [
    {
     "data": {
      "image/png": "[encoded data removed]",
      "text/plain": [
       "<Figure size 1000x600 with 1 Axes>"
      ]
     },
     "metadata": {},
     "output_type": "display_data"
    }
   ],
   "source": [
    "#number of depressed individuals and whether they are male or female and whether they are a working professional or are in schoool. #Help from ChatGPT\n",
    "\n",
    "data_dep_vis = data[['Depression', 'Gender', 'Working Professional or Student']]\n",
    "\n",
    "depressed_data = data_dep_vis[data_dep_vis['Depression'] == 1]\n",
    "\n",
    "# Aggregate counts by gender and working status\n",
    "student_counts = depressed_data[depressed_data['Working Professional or Student'] == 'Student']['Gender'].value_counts()\n",
    "pro_counts = depressed_data[depressed_data['Working Professional or Student'] == 'Working Professional']['Gender'].value_counts()\n",
    "\n",
    "# Align indexes for stacking (handle missing values with `.reindex`)\n",
    "genders = ['Male', 'Female']\n",
    "student_counts = student_counts.reindex(genders, fill_value=0)\n",
    "pro_counts = pro_counts.reindex(genders, fill_value=0)\n",
    "\n",
    "# Bar positions\n",
    "bar_positions = np.arange(len(genders))\n",
    "\n",
    "# Plot stacked bars\n",
    "plt.figure(figsize=(10, 6))\n",
    "plt.bar(bar_positions, student_counts, label='Students', color='lightblue')\n",
    "plt.bar(bar_positions, pro_counts, bottom=student_counts, label='Working Professionals', color='lightgreen')\n",
    "\n",
    "# Customize the chart\n",
    "plt.title(\"Count of Depressed Individuals by Gender and Working Status\")\n",
    "plt.xlabel(\"Gender\")\n",
    "plt.ylabel(\"Count\")\n",
    "plt.xticks(bar_positions, genders)  # Set gender labels on x-axis\n",
    "plt.legend(title=\"Status\")\n",
    "plt.show()"
   ]
  },
  {
   "cell_type": "markdown",
   "id": "ffa8b6a9-5e21-4f2e-b010-1dfe4d1de802",
   "metadata": {},
   "source": [
    "The purpose of this graph is to show how the working status and genders are represented in our data. As we can see, although males are more highly represented in this data, we can still see that the distrubtion of male and female is close while the working status seems to be more evenly split with a favortism towards students. "
   ]
  },
  {
   "cell_type": "code",
   "execution_count": 133,
   "id": "81325a66-8fbf-4206-b9be-4204f8f4994b",
   "metadata": {},
   "outputs": [
    {
     "data": {
      "text/plain": [
       "count    140700.000000\n",
       "mean         40.388621\n",
       "std          12.384099\n",
       "min          18.000000\n",
       "25%          29.000000\n",
       "50%          42.000000\n",
       "75%          51.000000\n",
       "max          60.000000\n",
       "Name: Age, dtype: float64"
      ]
     },
     "execution_count": 133,
     "metadata": {},
     "output_type": "execute_result"
    }
   ],
   "source": [
    "#age distribution of depressed individuals\n",
    "\n",
    "data['Age'].describe()"
   ]
  },
  {
   "cell_type": "code",
   "execution_count": 134,
   "id": "f2599f76-c583-42b0-82f8-f54d2cf9951b",
   "metadata": {},
   "outputs": [
    {
     "data": {
      "image/png": "[encoded data removed]",
      "text/plain": [
       "<Figure size 1000x600 with 1 Axes>"
      ]
     },
     "metadata": {},
     "output_type": "display_data"
    }
   ],
   "source": [
    "data_age_hist = data[data['Depression'] == 1]\n",
    "\n",
    "plt.figure(figsize=(10, 6))\n",
    "plt.hist(data_age_hist['Age'], bins=10, color='skyblue', edgecolor='black')\n",
    "plt.xlabel(\"Age\")\n",
    "plt.ylabel(\"Frequency\")\n",
    "plt.title(\"Age Distribution of Depressed Individuals\")\n",
    "plt.show()"
   ]
  },
  {
   "cell_type": "code",
   "execution_count": 135,
   "id": "e5ca8a92-029c-48b3-a9ce-adc2cba34110",
   "metadata": {},
   "outputs": [
    {
     "data": {
      "text/plain": [
       "count    140700.000000\n",
       "mean          6.252679\n",
       "std           3.853615\n",
       "min           0.000000\n",
       "25%           3.000000\n",
       "50%           6.000000\n",
       "75%          10.000000\n",
       "max          12.000000\n",
       "Name: Work/Study Hours, dtype: float64"
      ]
     },
     "execution_count": 135,
     "metadata": {},
     "output_type": "execute_result"
    }
   ],
   "source": [
    "#histogram of study / work hours for depressed individuals\n",
    "\n",
    "data['Work/Study Hours'].describe()"
   ]
  },
  {
   "cell_type": "code",
   "execution_count": 136,
   "id": "231880c4-646f-49eb-bd34-f061f037ddc4",
   "metadata": {},
   "outputs": [
    {
     "data": {
      "image/png": "[encoded data removed]",
      "text/plain": [
       "<Figure size 1000x600 with 1 Axes>"
      ]
     },
     "metadata": {},
     "output_type": "display_data"
    }
   ],
   "source": [
    "data_hours_hist = data[data['Depression'] == 1]\n",
    "\n",
    "plt.figure(figsize=(10, 6))\n",
    "plt.hist(data_hours_hist['Work/Study Hours'], bins=10, color='rebeccapurple', edgecolor='black')\n",
    "plt.xlabel(\"Hours\")\n",
    "plt.ylabel(\"Frequency\")\n",
    "plt.title(\"Age Distribution of Depressed Individuals\")\n",
    "plt.show()"
   ]
  },
  {
   "cell_type": "code",
   "execution_count": null,
   "id": "4f8ecc13-7799-4502-b8e5-7942b7f84f0c",
   "metadata": {},
   "outputs": [],
   "source": []
  },
  {
   "cell_type": "code",
   "execution_count": null,
   "id": "81f0a4aa-0b27-4eb8-9b2c-6b2de97e0ec1",
   "metadata": {},
   "outputs": [],
   "source": []
  },
  {
   "cell_type": "code",
   "execution_count": null,
   "id": "cdfe08ae-f890-46b7-8530-0b967fdfc478",
   "metadata": {},
   "outputs": [],
   "source": []
  },
  {
   "cell_type": "code",
   "execution_count": null,
   "id": "19fc866e-0bba-45ae-beb4-7f299a1d101f",
   "metadata": {},
   "outputs": [],
   "source": []
  },
  {
   "cell_type": "markdown",
   "id": "285d8cd0-9293-41b1-b784-c63b5906b6d3",
   "metadata": {},
   "source": [
    "### Data Cleaning"
   ]
  },
  {
   "cell_type": "code",
   "execution_count": 137,
   "id": "dcac6a9a-906f-4d82-a5f7-a1f26881a578",
   "metadata": {},
   "outputs": [],
   "source": [
    "#When working with predictive modeling, you cannot use null values. There are 3 different approaches we can take to mitigate these values.\n",
    "#The first option would be to completely wipe out all rows that contain at least 1 null value. This should be a last resort approach as we want to be \n",
    "#able to use as much data as possible for the model. The second option would be to find the mean or median of the column (if numeric) and fill in\n",
    "#the nulls with that average value. This option is best if you have a large percentage of null values, but can throw off other statistics and models.\n",
    "#Lastly, similarly with the average value method, we can fill in the nulls randomly. Even character values could be randomized if there is a unique set\n",
    "#of different values. Again, this is not ideal unless there is a large portion of data missing. \n",
    "\n",
    "#Below we will determine the best route. "
   ]
  },
  {
   "cell_type": "code",
   "execution_count": 138,
   "id": "7f0ff527-21d0-40ca-aa90-649acc4be52f",
   "metadata": {},
   "outputs": [
    {
     "data": {
      "text/plain": [
       "array(['Chef', 'Teacher', nan, 'Business Analyst', 'Finanancial Analyst',\n",
       "       'Chemist', 'Electrician', 'Software Engineer', 'Data Scientist',\n",
       "       'Plumber', 'Marketing Manager', 'Accountant', 'Entrepreneur',\n",
       "       'HR Manager', 'UX/UI Designer', 'Content Writer',\n",
       "       'Educational Consultant', 'Civil Engineer', 'Manager',\n",
       "       'Pharmacist', 'Financial Analyst', 'Architect',\n",
       "       'Mechanical Engineer', 'Customer Support', 'Consultant', 'Judge',\n",
       "       'Researcher', 'Pilot', 'Graphic Designer', 'Travel Consultant',\n",
       "       'Digital Marketer', 'Lawyer', 'Research Analyst',\n",
       "       'Sales Executive', 'Doctor', 'Unemployed', 'Investment Banker',\n",
       "       'Family Consultant', 'B.Com', 'BE', 'Student', 'Yogesh', 'Dev',\n",
       "       'MBA', 'LLM', 'BCA', 'Academic', 'Profession', 'FamilyVirar',\n",
       "       'City Manager', 'BBA', 'Medical Doctor', 'Working Professional',\n",
       "       'MBBS', 'Patna', 'Unveil', 'B.Ed', 'Nagpur', 'Moderate', 'M.Ed',\n",
       "       'Analyst', 'Pranav', 'Visakhapatnam', 'PhD', 'Yuvraj'],\n",
       "      dtype=object)"
      ]
     },
     "execution_count": 138,
     "metadata": {},
     "output_type": "execute_result"
    }
   ],
   "source": [
    "#profession unique values\n",
    "data['Profession'].unique()"
   ]
  },
  {
   "cell_type": "markdown",
   "id": "688a9973-bd4f-4bf0-99fa-ed196f25783d",
   "metadata": {},
   "source": [
    "Based on the values here, we could easily fill in the 'nan' values with a random profession, but considering the context I plan to fill in the nan values with something like \"unemployeed\" or \"no profession\". "
   ]
  },
  {
   "cell_type": "code",
   "execution_count": 139,
   "id": "6d557bcd-3dd4-424e-baac-9bf90dee5df9",
   "metadata": {},
   "outputs": [
    {
     "data": {
      "text/plain": [
       "array([nan,  5.,  2.,  3.,  4.,  1.])"
      ]
     },
     "execution_count": 139,
     "metadata": {},
     "output_type": "execute_result"
    }
   ],
   "source": [
    "#academic pressure unique values\n",
    "data['Academic Pressure'].unique()"
   ]
  },
  {
   "cell_type": "markdown",
   "id": "38d603d0-7b14-45bc-9121-7016e175012e",
   "metadata": {},
   "source": [
    "Looks like the academic pressure may be a great depressive indicator, but we do have some nan values. Considering the context I believe we can fill in the 'nan' values with 0 as this would mean an individual has no academic pressure. "
   ]
  },
  {
   "cell_type": "code",
   "execution_count": 140,
   "id": "69e7205a-5c70-457e-aa99-1a6c31c9bcf1",
   "metadata": {},
   "outputs": [
    {
     "data": {
      "text/plain": [
       "array([ 5.,  4., nan,  1.,  2.,  3.])"
      ]
     },
     "execution_count": 140,
     "metadata": {},
     "output_type": "execute_result"
    }
   ],
   "source": [
    "#work pressure unique values\n",
    "data['Work Pressure'].unique()"
   ]
  },
  {
   "cell_type": "markdown",
   "id": "54262c5b-98ab-4084-8a4c-b2f7c3c78715",
   "metadata": {},
   "source": [
    "Similary with the academic pressure, we should be able to replace those 'nan' values with 0."
   ]
  },
  {
   "cell_type": "code",
   "execution_count": 141,
   "id": "21f6403b-6dd5-416d-b172-b6180a73528d",
   "metadata": {
    "scrolled": true
   },
   "outputs": [
    {
     "data": {
      "text/plain": [
       "array([    nan,  8.97  ,  5.9   ,  7.03  ,  5.59  ,  8.13  ,  5.7   ,\n",
       "        9.54  ,  8.04  ,  9.79  ,  8.38  ,  6.1   ,  7.04  ,  8.52  ,\n",
       "        5.64  ,  8.58  ,  6.51  ,  7.25  ,  7.83  ,  9.93  ,  8.74  ,\n",
       "        6.73  ,  5.57  ,  8.59  ,  7.1   ,  6.08  ,  5.74  ,  9.86  ,\n",
       "        6.7   ,  6.21  ,  5.87  ,  6.37  ,  9.72  ,  5.88  ,  9.56  ,\n",
       "        6.99  ,  5.24  ,  9.21  ,  7.85  ,  6.95  ,  5.86  ,  7.92  ,\n",
       "        9.66  ,  8.94  ,  9.71  ,  7.87  ,  5.6   ,  7.9   ,  5.46  ,\n",
       "        6.79  ,  8.7   ,  7.38  ,  8.5   ,  7.09  ,  9.82  ,  8.89  ,\n",
       "        7.94  ,  9.11  ,  6.75  ,  7.53  ,  9.49  ,  9.01  ,  7.64  ,\n",
       "        5.27  ,  6.    ,  9.44  ,  5.75  ,  7.51  ,  9.05  ,  6.38  ,\n",
       "        8.95  ,  9.88  ,  5.32  ,  6.27  ,  7.7   ,  8.1   ,  9.59  ,\n",
       "        8.96  ,  5.51  ,  7.43  ,  8.79  ,  9.95  ,  5.37  ,  6.86  ,\n",
       "        8.32  ,  9.74  ,  5.66  ,  7.48  ,  8.23  ,  8.81  ,  6.03  ,\n",
       "        5.56  ,  5.68  ,  5.14  ,  7.61  ,  6.17  ,  8.17  ,  9.87  ,\n",
       "        8.75  ,  6.16  ,  9.5   ,  7.99  ,  5.67  ,  8.92  ,  6.19  ,\n",
       "        5.76  ,  6.25  ,  5.11  ,  5.58  ,  5.65  ,  9.89  ,  8.03  ,\n",
       "        6.61  ,  9.41  ,  8.64  ,  7.21  ,  8.28  ,  6.04  ,  9.13  ,\n",
       "        8.08  ,  9.96  ,  5.12  ,  8.35  ,  7.07  ,  9.6   ,  9.24  ,\n",
       "        8.54  ,  8.78  ,  8.93  ,  8.91  ,  9.04  ,  6.83  ,  5.85  ,\n",
       "        7.74  ,  6.41  ,  8.9   ,  7.75  ,  7.88  ,  5.42  ,  7.52  ,\n",
       "        7.68  ,  8.4   ,  9.39  ,  6.84  ,  5.99  ,  8.62  ,  8.53  ,\n",
       "        7.47  ,  6.78  ,  6.42  ,  9.92  ,  8.39  ,  5.89  ,  7.22  ,\n",
       "        6.81  ,  9.02  ,  9.97  ,  9.63  ,  9.67  ,  5.41  ,  7.27  ,\n",
       "        6.05  ,  6.85  ,  9.33  ,  5.81  ,  6.53  ,  5.98  ,  6.02  ,\n",
       "        6.74  ,  5.26  ,  7.72  ,  7.39  ,  8.43  ,  9.34  ,  5.44  ,\n",
       "        5.82  ,  5.72  ,  8.19  ,  8.44  ,  8.98  ,  9.37  ,  5.8   ,\n",
       "        7.28  ,  7.6   ,  7.91  ,  9.17  ,  7.46  ,  9.43  ,  9.91  ,\n",
       "        9.36  ,  5.16  ,  7.08  ,  9.26  ,  8.83  , 10.    ,  7.8   ,\n",
       "        9.46  ,  6.63  ,  7.24  ,  6.47  ,  7.77  ,  5.06  ,  7.17  ,\n",
       "        8.24  ,  6.88  ,  9.03  ,  5.08  ,  5.45  ,  8.46  ,  9.19  ,\n",
       "        6.36  ,  8.73  ,  7.11  ,  9.12  ,  9.4   ,  8.11  ,  9.98  ,\n",
       "        5.55  ,  8.61  ,  8.14  ,  6.89  ,  9.84  ,  5.48  ,  8.21  ,\n",
       "        7.82  ,  8.55  ,  5.79  ,  8.77  ,  8.29  ,  6.92  ,  7.37  ,\n",
       "        9.7   ,  6.26  ,  7.26  ,  7.5   ,  6.82  ,  7.15  ,  5.77  ,\n",
       "        5.91  ,  5.1   ,  7.71  ,  9.06  ,  5.71  ,  5.84  ,  9.42  ,\n",
       "        6.23  ,  6.29  ,  5.25  ,  9.69  ,  9.9   ,  6.39  ,  8.09  ,\n",
       "        5.83  ,  5.47  ,  6.56  ,  8.71  ,  9.94  ,  6.69  ,  5.52  ,\n",
       "        7.3   ,  7.02  ,  6.33  ,  8.07  ,  8.37  ,  8.    ,  7.79  ,\n",
       "        8.65  ,  6.28  ,  7.35  ,  8.69  ,  7.12  ,  7.32  ,  7.13  ,\n",
       "        5.97  ,  5.09  ,  6.91  ,  6.76  ,  6.52  ,  7.45  ,  8.56  ,\n",
       "        6.5   ,  8.63  ,  8.27  ,  8.49  ,  6.59  ,  9.29  ,  5.3   ,\n",
       "        7.06  ,  5.38  ,  6.65  ,  9.16  ,  8.01  ,  8.25  ,  8.02  ,\n",
       "        8.47  ,  7.34  ,  8.88  ,  7.14  ,  8.42  ,  5.17  ,  9.1   ,\n",
       "        7.49  ,  9.85  ,  7.42  ,  9.31  ,  6.35  ,  7.    ,  5.39  ,\n",
       "        5.61  ,  9.78  ,  9.25  ,  5.69  ,  9.47  ,  8.16  ,  7.23  ,\n",
       "        6.46  ,  8.26  ,  6.32  ,  6.77  ,  8.85  ,  5.03  ,  7.65  ,\n",
       "        5.78  ,  6.24  ,  5.35  ,  6.06  ,  7.78  ,  6.64  ,  7.0625,\n",
       "        6.98  ,  6.44  ,  6.09  ])"
      ]
     },
     "execution_count": 141,
     "metadata": {},
     "output_type": "execute_result"
    }
   ],
   "source": [
    "#Cumulative Grade Point Average unique values\n",
    "data['CGPA'].unique()"
   ]
  },
  {
   "cell_type": "code",
   "execution_count": 142,
   "id": "49fcd86a-0391-475d-a027-bd8530c3926f",
   "metadata": {},
   "outputs": [
    {
     "data": {
      "text/html": [
       "<div>\n",
       "<style scoped>\n",
       "    .dataframe tbody tr th:only-of-type {\n",
       "        vertical-align: middle;\n",
       "    }\n",
       "\n",
       "    .dataframe tbody tr th {\n",
       "        vertical-align: top;\n",
       "    }\n",
       "\n",
       "    .dataframe thead th {\n",
       "        text-align: right;\n",
       "    }\n",
       "</style>\n",
       "<table border=\"1\" class=\"dataframe\">\n",
       "  <thead>\n",
       "    <tr style=\"text-align: right;\">\n",
       "      <th></th>\n",
       "      <th>id</th>\n",
       "      <th>Name</th>\n",
       "      <th>Gender</th>\n",
       "      <th>Age</th>\n",
       "      <th>City</th>\n",
       "      <th>Working Professional or Student</th>\n",
       "      <th>Profession</th>\n",
       "      <th>Academic Pressure</th>\n",
       "      <th>Work Pressure</th>\n",
       "      <th>CGPA</th>\n",
       "      <th>Study Satisfaction</th>\n",
       "      <th>Job Satisfaction</th>\n",
       "      <th>Sleep Duration</th>\n",
       "      <th>Dietary Habits</th>\n",
       "      <th>Degree</th>\n",
       "      <th>Have you ever had suicidal thoughts ?</th>\n",
       "      <th>Work/Study Hours</th>\n",
       "      <th>Financial Stress</th>\n",
       "      <th>Family History of Mental Illness</th>\n",
       "      <th>Depression</th>\n",
       "    </tr>\n",
       "  </thead>\n",
       "  <tbody>\n",
       "  </tbody>\n",
       "</table>\n",
       "</div>"
      ],
      "text/plain": [
       "Empty DataFrame\n",
       "Columns: [id, Name, Gender, Age, City, Working Professional or Student, Profession, Academic Pressure, Work Pressure, CGPA, Study Satisfaction, Job Satisfaction, Sleep Duration, Dietary Habits, Degree, Have you ever had suicidal thoughts ?, Work/Study Hours, Financial Stress, Family History of Mental Illness, Depression]\n",
       "Index: []"
      ]
     },
     "execution_count": 142,
     "metadata": {},
     "output_type": "execute_result"
    }
   ],
   "source": [
    "top_w_nan_gpa = data[data['CGPA'].isna() & data['Working Professional or Student'] == 'Student']\n",
    "top_w_nan_gpa.head()"
   ]
  },
  {
   "cell_type": "markdown",
   "id": "a466f375-5508-4bca-9407-afe078623e1a",
   "metadata": {},
   "source": [
    "The CGPA or Cumulative Grade Point Average is a good indicator of the students overall academic performance. The second section of code tells us that when the CGPA score is null, we have a working professional. This means we should be able to fill all the null values with 0 without disturbing any of the student's GPA scores."
   ]
  },
  {
   "cell_type": "code",
   "execution_count": 143,
   "id": "a657d182-7d82-4fac-b6a2-1f9047840b0d",
   "metadata": {},
   "outputs": [
    {
     "data": {
      "text/plain": [
       "0"
      ]
     },
     "execution_count": 143,
     "metadata": {},
     "output_type": "execute_result"
    }
   ],
   "source": [
    "data['Working Professional or Student'].isnull().sum()"
   ]
  },
  {
   "cell_type": "code",
   "execution_count": 144,
   "id": "ba03226c-b7d3-45c8-9d82-ea11844fde67",
   "metadata": {},
   "outputs": [
    {
     "data": {
      "text/plain": [
       "array([nan,  2.,  5.,  3.,  4.,  1.])"
      ]
     },
     "execution_count": 144,
     "metadata": {},
     "output_type": "execute_result"
    }
   ],
   "source": [
    "#Study Satisfaction unique values\n",
    "data['Study Satisfaction'].unique()"
   ]
  },
  {
   "cell_type": "code",
   "execution_count": 145,
   "id": "0417b3ae-eb03-40bc-b022-4f5fe1dd6baa",
   "metadata": {},
   "outputs": [
    {
     "data": {
      "text/plain": [
       "array([ 2.,  3., nan,  1.,  5.,  4.])"
      ]
     },
     "execution_count": 145,
     "metadata": {},
     "output_type": "execute_result"
    }
   ],
   "source": [
    "#Job Satisfaction unique values\n",
    "data['Job Satisfaction'].unique()"
   ]
  },
  {
   "cell_type": "code",
   "execution_count": 146,
   "id": "d9cef66e-0fab-446c-8792-3f92debd1303",
   "metadata": {},
   "outputs": [
    {
     "data": {
      "text/plain": [
       "array(['Healthy', 'Unhealthy', 'Moderate', 'Yes', 'Pratham', 'BSc',\n",
       "       'Gender', '3', 'More Healthy', 'Less than Healthy', 'Mihir', '1.0',\n",
       "       'Hormonal', 'Electrician', nan, 'No Healthy', 'Less Healthy',\n",
       "       'M.Tech', 'Vegas', 'No', 'Male', 'Indoor', 'Class 12', '2'],\n",
       "      dtype=object)"
      ]
     },
     "execution_count": 146,
     "metadata": {},
     "output_type": "execute_result"
    }
   ],
   "source": [
    "#Dietary habits unique values\n",
    "data['Dietary Habits'].unique()"
   ]
  },
  {
   "cell_type": "markdown",
   "id": "670ceec0-dd90-4e4d-9636-b2bb72a7f908",
   "metadata": {},
   "source": [
    "Based on these values, we will have to dig in more to discover the best route with this column or decide that it may not be useful. "
   ]
  },
  {
   "cell_type": "code",
   "execution_count": 147,
   "id": "9a9c3c19-1951-4eb0-ae8c-542bca405cb2",
   "metadata": {},
   "outputs": [
    {
     "data": {
      "text/plain": [
       "0"
      ]
     },
     "execution_count": 147,
     "metadata": {},
     "output_type": "execute_result"
    }
   ],
   "source": [
    "#work study hours\n",
    "data['Work/Study Hours'].isnull().sum()\n",
    "#no null values within this work/study column"
   ]
  },
  {
   "cell_type": "code",
   "execution_count": 148,
   "id": "319ab80e-a674-44ac-bf97-2e4c37e30854",
   "metadata": {
    "scrolled": true
   },
   "outputs": [
    {
     "data": {
      "text/plain": [
       "array(['BHM', 'LLB', 'B.Pharm', 'BBA', 'MCA', 'MD', 'BSc', 'ME', 'B.Arch',\n",
       "       'BCA', 'BE', 'MA', 'B.Ed', 'B.Com', 'MBA', 'M.Com', 'MHM', 'BA',\n",
       "       'Class 12', 'M.Tech', 'PhD', 'M.Ed', 'MSc', 'B.Tech', 'LLM',\n",
       "       'MBBS', 'M.Pharm', 'UX/UI Designer', 'MPA', 'BH', 'Nalini', 'BEd',\n",
       "       'B.Sc', 'Veda', 'Bhopal', 'S.Tech', 'Degree', '20', 'Class 11',\n",
       "       'H_Pharm', 'M', 'P.Com', 'BPharm', 'Business Analyst', 'M.Arch',\n",
       "       'LL.Com', 'Data Scientist', 'MPharm', 'L.Ed', 'P.Pharm', 'Kalyan',\n",
       "       'Unite', 'BArch', 'HR Manager', 'Badhya', 'S.Pharm', 'LLBA',\n",
       "       'Vrinda', 'M. Business Analyst', 'Bhavesh', '0', 'LLCom', '29',\n",
       "       'MTech', 'Vivaan', 'BPA', 'Plumber', '5.61', 'Brit', 'B.03',\n",
       "       'Ritik', '5.56', 'MEd', 'B', 'B BA', '7.06', 'B.B.Arch', 'ACA',\n",
       "       'Brithika', 'CGPA', '24', 'M_Tech', 'Pihu', 'BB', 'Jhanvi',\n",
       "       'LLTech', 'Aarav', 'Entrepreneur', '8.56', 'LHM', 'Lata', 'S.Arch',\n",
       "       'Marsh', 'HCA', '5.88', 'B.Student', 'LL B.Ed', 'M.S', 'Navya',\n",
       "       'Mahika', nan, 'K.Ed', 'B.3.79', 'Mthanya', 'Working Professional',\n",
       "       'Esha', 'LLS', 'LLEd', 'E.Tech', 'Doctor', 'N.Pharm', 'LCA',\n",
       "       'B B.Com', 'RCA', 'Mihir', 'Advait'], dtype=object)"
      ]
     },
     "execution_count": 148,
     "metadata": {},
     "output_type": "execute_result"
    }
   ],
   "source": [
    "#Degree unique values\n",
    "data['Degree'].unique()"
   ]
  },
  {
   "cell_type": "code",
   "execution_count": 149,
   "id": "511c62d9-fd40-47e5-bb5c-b93a42ba0e51",
   "metadata": {},
   "outputs": [
    {
     "data": {
      "text/plain": [
       "Class 12    14729\n",
       "B.Ed        11691\n",
       "B.Arch       8742\n",
       "B.Com        8113\n",
       "B.Pharm      5856\n",
       "BCA          5739\n",
       "M.Ed         5668\n",
       "MCA          5234\n",
       "BBA          5030\n",
       "BSc          5027\n",
       "Name: Degree, dtype: int64"
      ]
     },
     "execution_count": 149,
     "metadata": {},
     "output_type": "execute_result"
    }
   ],
   "source": [
    "#Degree unique value counts top\n",
    "degree_nans = data['Degree'].value_counts(ascending=False)\n",
    "degree_nans.head(10)"
   ]
  },
  {
   "cell_type": "code",
   "execution_count": 150,
   "id": "61ad32f1-694c-4372-81d6-6e6d70302dad",
   "metadata": {},
   "outputs": [
    {
     "data": {
      "text/plain": [
       "Vrinda      1\n",
       "Pihu        1\n",
       "M_Tech      1\n",
       "24          1\n",
       "CGPA        1\n",
       "Brithika    1\n",
       "ACA         1\n",
       "B.B.Arch    1\n",
       "7.06        1\n",
       "B BA        1\n",
       "Name: Degree, dtype: int64"
      ]
     },
     "execution_count": 150,
     "metadata": {},
     "output_type": "execute_result"
    }
   ],
   "source": [
    "#Degree unique value counts bottom\n",
    "degree_nans = data['Degree'].value_counts(ascending=True)\n",
    "degree_nans.head(10)"
   ]
  },
  {
   "cell_type": "markdown",
   "id": "b7a3b679-8f7d-403d-a97c-ffc9f689c94a",
   "metadata": {},
   "source": [
    "Due to the variety of degrees, assigning these unique ids for modeling will come in handy later on. "
   ]
  },
  {
   "cell_type": "code",
   "execution_count": 151,
   "id": "8a20cd39-90ce-40dc-b041-e4bf9aa8b94f",
   "metadata": {},
   "outputs": [
    {
     "data": {
      "text/plain": [
       "2"
      ]
     },
     "execution_count": 151,
     "metadata": {},
     "output_type": "execute_result"
    }
   ],
   "source": [
    "data['Degree'].isnull().sum()"
   ]
  },
  {
   "cell_type": "code",
   "execution_count": 152,
   "id": "58563a61-dda2-4842-9ea2-3ce5be1865d6",
   "metadata": {},
   "outputs": [
    {
     "data": {
      "text/plain": [
       "array([ 2.,  3.,  1.,  4.,  5., nan])"
      ]
     },
     "execution_count": 152,
     "metadata": {},
     "output_type": "execute_result"
    }
   ],
   "source": [
    "#Financial Stress unique values\n",
    "data['Financial Stress'].unique()"
   ]
  },
  {
   "cell_type": "markdown",
   "id": "ff13d4a2-9957-4c8a-a5c9-4b2326cb1b34",
   "metadata": {},
   "source": [
    "Thankfully this stress indicator is farely clean and we should be able to replace the nan values with 0."
   ]
  },
  {
   "cell_type": "code",
   "execution_count": 153,
   "id": "9f9d0a8d-f3a9-4f75-a711-7924331a942b",
   "metadata": {},
   "outputs": [],
   "source": [
    "#start here:\n",
    "#work on cleaning out nan values across the board or figuring out which columns we want to use or \"save\" for modeling\n",
    "\n",
    "\n",
    "#also next for cleaning will be trying to get the sleep hours out of the column "
   ]
  },
  {
   "cell_type": "code",
   "execution_count": 154,
   "id": "d14e5d43-4a1f-46ae-a04b-f278e71d3e58",
   "metadata": {},
   "outputs": [
    {
     "data": {
      "text/plain": [
       "array(['More than 8 hours', 'Less than 5 hours', '5-6 hours', '7-8 hours',\n",
       "       'Sleep_Duration', '1-2 hours', '6-8 hours', '4-6 hours',\n",
       "       '6-7 hours', '10-11 hours', '8-9 hours', '40-45 hours',\n",
       "       '9-11 hours', '2-3 hours', '3-4 hours', 'Moderate', '55-66 hours',\n",
       "       '4-5 hours', '9-6 hours', '1-3 hours', 'Indore', '45', '1-6 hours',\n",
       "       '35-36 hours', '8 hours', 'No', '10-6 hours', 'than 5 hours',\n",
       "       '49 hours', 'Unhealthy', 'Work_Study_Hours', '3-6 hours',\n",
       "       '45-48 hours', '9-5', 'Pune', '9-5 hours'], dtype=object)"
      ]
     },
     "execution_count": 154,
     "metadata": {},
     "output_type": "execute_result"
    }
   ],
   "source": [
    "#sleep duration unique research\n",
    "data['Sleep Duration'].unique()"
   ]
  },
  {
   "cell_type": "code",
   "execution_count": 155,
   "id": "54a5a4f4-e2d8-4add-b47c-02b895c39161",
   "metadata": {},
   "outputs": [
    {
     "data": {
      "text/plain": [
       "Less than 5 hours    38784\n",
       "7-8 hours            36969\n",
       "More than 8 hours    32726\n",
       "5-6 hours            32142\n",
       "3-4 hours               12\n",
       "6-7 hours                8\n",
       "4-5 hours                7\n",
       "2-3 hours                5\n",
       "4-6 hours                5\n",
       "6-8 hours                4\n",
       "1-6 hours                4\n",
       "No                       4\n",
       "9-11 hours               2\n",
       "10-11 hours              2\n",
       "Sleep_Duration           2\n",
       "Unhealthy                2\n",
       "45                       2\n",
       "8-9 hours                2\n",
       "10-6 hours               1\n",
       "9-5                      1\n",
       "45-48 hours              1\n",
       "3-6 hours                1\n",
       "Work_Study_Hours         1\n",
       "49 hours                 1\n",
       "than 5 hours             1\n",
       "Pune                     1\n",
       "9-6 hours                1\n",
       "8 hours                  1\n",
       "35-36 hours              1\n",
       "Indore                   1\n",
       "1-3 hours                1\n",
       "55-66 hours              1\n",
       "Moderate                 1\n",
       "40-45 hours              1\n",
       "1-2 hours                1\n",
       "9-5 hours                1\n",
       "Name: Sleep Duration, dtype: int64"
      ]
     },
     "execution_count": 155,
     "metadata": {},
     "output_type": "execute_result"
    }
   ],
   "source": [
    "sleep_data = data['Sleep Duration'].value_counts(ascending=False)\n",
    "sleep_data"
   ]
  },
  {
   "cell_type": "markdown",
   "id": "90fc6b03-0019-456b-91da-fc0673bb3b26",
   "metadata": {},
   "source": [
    "Again, we have few options on how to deal with these values. In order to make them useful for modeling, we will need to normalize these values. The pro here is that there a bulk of the values are set by 4 different values. The con here is that another 32 values need to be parsed and assessed on how to properly assign a numeric value. \n",
    "\n",
    "I think the best approach to start would be to do \"case when\" for each value we see here and give it a best guess. Example 55-66 maybe just average to 60.5 hours or round down to 60. Or moderate we could do 6 hours? Some of the odd-ball string values we can just put in an average. "
   ]
  },
  {
   "cell_type": "code",
   "execution_count": 156,
   "id": "92ccad6f-3f9d-4d21-a798-d1e7a42c795f",
   "metadata": {},
   "outputs": [
    {
     "data": {
      "text/plain": [
       "0"
      ]
     },
     "execution_count": 156,
     "metadata": {},
     "output_type": "execute_result"
    }
   ],
   "source": [
    "#Have you ever had suicidal thoughts\n",
    "data['Have you ever had suicidal thoughts ?'].isnull().sum()"
   ]
  },
  {
   "cell_type": "code",
   "execution_count": 157,
   "id": "ef5bdc1d-8b04-468d-9393-e337a41760d5",
   "metadata": {},
   "outputs": [
    {
     "data": {
      "text/plain": [
       "0"
      ]
     },
     "execution_count": 157,
     "metadata": {},
     "output_type": "execute_result"
    }
   ],
   "source": [
    "#Family history question\n",
    "data['Family History of Mental Illness'].isnull().sum()"
   ]
  },
  {
   "cell_type": "markdown",
   "id": "07d228fe-f944-4faa-94af-fe072e8fa3f2",
   "metadata": {},
   "source": [
    "### Cleanup"
   ]
  },
  {
   "cell_type": "code",
   "execution_count": 158,
   "id": "a5af2e4e-2461-4205-9938-bab444f7e506",
   "metadata": {},
   "outputs": [],
   "source": [
    "#replacing all nan values with 0 for these columns:\n",
    "\n",
    "clean_data = data\n",
    "clean_data['CGPA'] = clean_data['CGPA'].fillna(0)\n",
    "clean_data['Academic Pressure'] = clean_data['Academic Pressure'].fillna(0)\n",
    "clean_data['Work Pressure'] = clean_data['Work Pressure'].fillna(0)\n",
    "clean_data['Study Satisfaction'] = clean_data['Study Satisfaction'].fillna(0)\n",
    "clean_data['Job Satisfaction'] = clean_data['Job Satisfaction'].fillna(0)\n",
    "clean_data['Financial Stress'] = clean_data['Financial Stress'].fillna(0)"
   ]
  },
  {
   "cell_type": "code",
   "execution_count": 159,
   "id": "bbea54d8-0aea-4f44-8246-fa3d2e0d440c",
   "metadata": {},
   "outputs": [],
   "source": [
    "clean_data = clean_data[(clean_data['Sleep Duration'] == 'Less than 5 hours') | (clean_data['Sleep Duration'] == '7-8 hours') | (clean_data['Sleep Duration'] == 'More than 8 hours') | (clean_data['Sleep Duration'] == '5-6 hours')]"
   ]
  },
  {
   "cell_type": "code",
   "execution_count": 160,
   "id": "07a3368e-993c-4e50-afa7-71bceda550f4",
   "metadata": {},
   "outputs": [],
   "source": [
    "#The goal here was to take our hottest sleeping values and assign them a number to be better for training. \n",
    "#This could be up for interpretation as to which values should be assigned higher or lower, but the goal really is to have the model\n",
    "    #be able to make distictions between the different sleeping hours individuals get\n",
    "\n",
    "clean_data.loc[clean_data['Sleep Duration'] == 'Less than 5 hours', 'Sleep Duration'] = 1  # Bad\n",
    "clean_data.loc[clean_data['Sleep Duration'] == '5-6 hours', 'Sleep Duration'] = 2        # Okay\n",
    "clean_data.loc[clean_data['Sleep Duration'] == '7-8 hours', 'Sleep Duration'] = 3        # Best\n",
    "clean_data.loc[clean_data['Sleep Duration'] == 'More than 8 hours', 'Sleep Duration'] = 4 # Okay\n"
   ]
  },
  {
   "cell_type": "code",
   "execution_count": 161,
   "id": "7d7cd51f-56a7-49c3-9c28-ba9f7e804168",
   "metadata": {},
   "outputs": [],
   "source": [
    "#changing binary values to 0s and 1s\n",
    "clean_data.loc[clean_data['Gender'] == 'Male', 'Gender'] = 1\n",
    "clean_data.loc[clean_data['Gender'] == 'Female', 'Gender'] = 0\n",
    "\n",
    "clean_data.loc[clean_data['Have you ever had suicidal thoughts ?'] == 'Yes', 'Have you ever had suicidal thoughts ?'] = 1\n",
    "clean_data.loc[clean_data['Have you ever had suicidal thoughts ?'] == 'No', 'Have you ever had suicidal thoughts ?'] = 0\n",
    "\n",
    "clean_data.loc[clean_data['Family History of Mental Illness'] == 'Yes', 'Family History of Mental Illness'] = 1\n",
    "clean_data.loc[clean_data['Family History of Mental Illness'] == 'No', 'Family History of Mental Illness'] = 0\n",
    "\n",
    "clean_data.loc[clean_data['Working Professional or Student'] == 'Working Professional', 'Working Professional or Student'] = 0\n",
    "clean_data.loc[clean_data['Working Professional or Student'] == 'Student', 'Working Professional or Student'] = 1"
   ]
  },
  {
   "cell_type": "code",
   "execution_count": 162,
   "id": "bd5d8856-9976-4684-902b-2bd22be1d9c5",
   "metadata": {},
   "outputs": [
    {
     "data": {
      "text/html": [
       "<div>\n",
       "<style scoped>\n",
       "    .dataframe tbody tr th:only-of-type {\n",
       "        vertical-align: middle;\n",
       "    }\n",
       "\n",
       "    .dataframe tbody tr th {\n",
       "        vertical-align: top;\n",
       "    }\n",
       "\n",
       "    .dataframe thead th {\n",
       "        text-align: right;\n",
       "    }\n",
       "</style>\n",
       "<table border=\"1\" class=\"dataframe\">\n",
       "  <thead>\n",
       "    <tr style=\"text-align: right;\">\n",
       "      <th></th>\n",
       "      <th>id</th>\n",
       "      <th>Name</th>\n",
       "      <th>Gender</th>\n",
       "      <th>Age</th>\n",
       "      <th>City</th>\n",
       "      <th>Working Professional or Student</th>\n",
       "      <th>Profession</th>\n",
       "      <th>Academic Pressure</th>\n",
       "      <th>Work Pressure</th>\n",
       "      <th>CGPA</th>\n",
       "      <th>Study Satisfaction</th>\n",
       "      <th>Job Satisfaction</th>\n",
       "      <th>Sleep Duration</th>\n",
       "      <th>Dietary Habits</th>\n",
       "      <th>Degree</th>\n",
       "      <th>Have you ever had suicidal thoughts ?</th>\n",
       "      <th>Work/Study Hours</th>\n",
       "      <th>Financial Stress</th>\n",
       "      <th>Family History of Mental Illness</th>\n",
       "      <th>Depression</th>\n",
       "    </tr>\n",
       "  </thead>\n",
       "  <tbody>\n",
       "    <tr>\n",
       "      <th>0</th>\n",
       "      <td>0</td>\n",
       "      <td>Aaradhya</td>\n",
       "      <td>0</td>\n",
       "      <td>49.0</td>\n",
       "      <td>Ludhiana</td>\n",
       "      <td>0</td>\n",
       "      <td>Chef</td>\n",
       "      <td>0.0</td>\n",
       "      <td>5.0</td>\n",
       "      <td>0.00</td>\n",
       "      <td>0.0</td>\n",
       "      <td>2.0</td>\n",
       "      <td>4</td>\n",
       "      <td>Healthy</td>\n",
       "      <td>BHM</td>\n",
       "      <td>0</td>\n",
       "      <td>1.0</td>\n",
       "      <td>2.0</td>\n",
       "      <td>0</td>\n",
       "      <td>0</td>\n",
       "    </tr>\n",
       "    <tr>\n",
       "      <th>1</th>\n",
       "      <td>1</td>\n",
       "      <td>Vivan</td>\n",
       "      <td>1</td>\n",
       "      <td>26.0</td>\n",
       "      <td>Varanasi</td>\n",
       "      <td>0</td>\n",
       "      <td>Teacher</td>\n",
       "      <td>0.0</td>\n",
       "      <td>4.0</td>\n",
       "      <td>0.00</td>\n",
       "      <td>0.0</td>\n",
       "      <td>3.0</td>\n",
       "      <td>1</td>\n",
       "      <td>Unhealthy</td>\n",
       "      <td>LLB</td>\n",
       "      <td>1</td>\n",
       "      <td>7.0</td>\n",
       "      <td>3.0</td>\n",
       "      <td>0</td>\n",
       "      <td>1</td>\n",
       "    </tr>\n",
       "    <tr>\n",
       "      <th>2</th>\n",
       "      <td>2</td>\n",
       "      <td>Yuvraj</td>\n",
       "      <td>1</td>\n",
       "      <td>33.0</td>\n",
       "      <td>Visakhapatnam</td>\n",
       "      <td>1</td>\n",
       "      <td>NaN</td>\n",
       "      <td>5.0</td>\n",
       "      <td>0.0</td>\n",
       "      <td>8.97</td>\n",
       "      <td>2.0</td>\n",
       "      <td>0.0</td>\n",
       "      <td>2</td>\n",
       "      <td>Healthy</td>\n",
       "      <td>B.Pharm</td>\n",
       "      <td>1</td>\n",
       "      <td>3.0</td>\n",
       "      <td>1.0</td>\n",
       "      <td>0</td>\n",
       "      <td>1</td>\n",
       "    </tr>\n",
       "    <tr>\n",
       "      <th>3</th>\n",
       "      <td>3</td>\n",
       "      <td>Yuvraj</td>\n",
       "      <td>1</td>\n",
       "      <td>22.0</td>\n",
       "      <td>Mumbai</td>\n",
       "      <td>0</td>\n",
       "      <td>Teacher</td>\n",
       "      <td>0.0</td>\n",
       "      <td>5.0</td>\n",
       "      <td>0.00</td>\n",
       "      <td>0.0</td>\n",
       "      <td>1.0</td>\n",
       "      <td>1</td>\n",
       "      <td>Moderate</td>\n",
       "      <td>BBA</td>\n",
       "      <td>1</td>\n",
       "      <td>10.0</td>\n",
       "      <td>1.0</td>\n",
       "      <td>1</td>\n",
       "      <td>1</td>\n",
       "    </tr>\n",
       "    <tr>\n",
       "      <th>4</th>\n",
       "      <td>4</td>\n",
       "      <td>Rhea</td>\n",
       "      <td>0</td>\n",
       "      <td>30.0</td>\n",
       "      <td>Kanpur</td>\n",
       "      <td>0</td>\n",
       "      <td>Business Analyst</td>\n",
       "      <td>0.0</td>\n",
       "      <td>1.0</td>\n",
       "      <td>0.00</td>\n",
       "      <td>0.0</td>\n",
       "      <td>1.0</td>\n",
       "      <td>2</td>\n",
       "      <td>Unhealthy</td>\n",
       "      <td>BBA</td>\n",
       "      <td>1</td>\n",
       "      <td>9.0</td>\n",
       "      <td>4.0</td>\n",
       "      <td>1</td>\n",
       "      <td>0</td>\n",
       "    </tr>\n",
       "  </tbody>\n",
       "</table>\n",
       "</div>"
      ],
      "text/plain": [
       "   id      Name Gender   Age           City Working Professional or Student  \\\n",
       "0   0  Aaradhya      0  49.0       Ludhiana                               0   \n",
       "1   1     Vivan      1  26.0       Varanasi                               0   \n",
       "2   2    Yuvraj      1  33.0  Visakhapatnam                               1   \n",
       "3   3    Yuvraj      1  22.0         Mumbai                               0   \n",
       "4   4      Rhea      0  30.0         Kanpur                               0   \n",
       "\n",
       "         Profession  Academic Pressure  Work Pressure  CGPA  \\\n",
       "0              Chef                0.0            5.0  0.00   \n",
       "1           Teacher                0.0            4.0  0.00   \n",
       "2               NaN                5.0            0.0  8.97   \n",
       "3           Teacher                0.0            5.0  0.00   \n",
       "4  Business Analyst                0.0            1.0  0.00   \n",
       "\n",
       "   Study Satisfaction  Job Satisfaction Sleep Duration Dietary Habits  \\\n",
       "0                 0.0               2.0              4        Healthy   \n",
       "1                 0.0               3.0              1      Unhealthy   \n",
       "2                 2.0               0.0              2        Healthy   \n",
       "3                 0.0               1.0              1       Moderate   \n",
       "4                 0.0               1.0              2      Unhealthy   \n",
       "\n",
       "    Degree Have you ever had suicidal thoughts ?  Work/Study Hours  \\\n",
       "0      BHM                                     0               1.0   \n",
       "1      LLB                                     1               7.0   \n",
       "2  B.Pharm                                     1               3.0   \n",
       "3      BBA                                     1              10.0   \n",
       "4      BBA                                     1               9.0   \n",
       "\n",
       "   Financial Stress Family History of Mental Illness  Depression  \n",
       "0               2.0                                0           0  \n",
       "1               3.0                                0           1  \n",
       "2               1.0                                0           1  \n",
       "3               1.0                                1           1  \n",
       "4               4.0                                1           0  "
      ]
     },
     "execution_count": 162,
     "metadata": {},
     "output_type": "execute_result"
    }
   ],
   "source": [
    "clean_data.head()"
   ]
  },
  {
   "cell_type": "code",
   "execution_count": null,
   "id": "dba4dd10-0524-4951-b5d6-0223e7658131",
   "metadata": {},
   "outputs": [],
   "source": []
  },
  {
   "cell_type": "markdown",
   "id": "020a50b9-46da-48b2-8fe9-85df2daa234c",
   "metadata": {},
   "source": [
    "# Modeling"
   ]
  },
  {
   "cell_type": "code",
   "execution_count": 163,
   "id": "6de3ebd8-d115-4beb-aafb-9f6fff2b41bf",
   "metadata": {},
   "outputs": [],
   "source": [
    "#our first attempt will use the already clean data to make a Random Forest model\n",
    "\n",
    "#in our second attempt we will want to include city, profession, dietary habits (needs cleaning) and degree.\n",
    "    #I do not believe adding name will do much"
   ]
  },
  {
   "cell_type": "markdown",
   "id": "1469fa7f-7dd4-43ce-87d8-2c5e4ec14c50",
   "metadata": {},
   "source": [
    "### Normalization"
   ]
  },
  {
   "cell_type": "code",
   "execution_count": 164,
   "id": "22590c63-071e-4b2c-b968-e092475d5824",
   "metadata": {},
   "outputs": [],
   "source": [
    "scaler = MinMaxScaler()\n",
    "#columns that are non binary (not 1s or 0s)\n",
    "numeric_columns = [ 'Age', 'Academic Pressure', \n",
    "                           'Work Pressure', 'CGPA', 'Study Satisfaction', 'Job Satisfaction', 'Sleep Duration', \n",
    "                           'Work/Study Hours', 'Financial Stress']\n",
    "clean_data_norm = scaler.fit_transform(clean_data[numeric_columns])\n",
    "\n",
    "clean_data_norm = pd.DataFrame(clean_data_norm, \n",
    "                           columns=numeric_columns, \n",
    "                           index=clean_data.index)"
   ]
  },
  {
   "cell_type": "code",
   "execution_count": 165,
   "id": "a58f5c70-7245-4f0a-88b1-dfe58dcebd96",
   "metadata": {
    "scrolled": true
   },
   "outputs": [],
   "source": [
    "x_vals_add_in = ['Gender', 'Working Professional or Student',  'Have you ever had suicidal thoughts ?',\n",
    "                        'Family History of Mental Illness']\n",
    "y_data = clean_data['Depression']\n"
   ]
  },
  {
   "cell_type": "code",
   "execution_count": 166,
   "id": "e6a2e8c5-6504-4712-b43c-13bf3b9ffd3a",
   "metadata": {},
   "outputs": [],
   "source": [
    "X_data = pd.concat([clean_data_norm, clean_data[x_vals_add_in]], axis=1)"
   ]
  },
  {
   "cell_type": "code",
   "execution_count": 167,
   "id": "da0348fc-3864-4202-a8db-c7235b9e68e1",
   "metadata": {},
   "outputs": [],
   "source": [
    "X_train, X_test, y_train, y_test = train_test_split(X_data, y_data, test_size=0.2, random_state=10)\n"
   ]
  },
  {
   "cell_type": "markdown",
   "id": "5cffd4b0-6dbc-4c15-b1fd-b2357686c776",
   "metadata": {},
   "source": [
    "### Random Forest"
   ]
  },
  {
   "cell_type": "code",
   "execution_count": 168,
   "id": "53e0c3e1-1f99-4433-a63f-b3f50dc0ae83",
   "metadata": {},
   "outputs": [
    {
     "data": {
      "image/png": "[encoded data removed]",
      "text/plain": [
       "<Figure size 640x480 with 2 Axes>"
      ]
     },
     "metadata": {},
     "output_type": "display_data"
    }
   ],
   "source": [
    "rf = RandomForestClassifier()\n",
    "rf.fit(X_train, y_train)\n",
    "\n",
    "\n",
    "y_pred = rf.predict(X_test)\n",
    "cm = confusion_matrix(y_test, y_pred)\n",
    "\n",
    "ConfusionMatrixDisplay(confusion_matrix=cm).plot();"
   ]
  },
  {
   "cell_type": "code",
   "execution_count": 169,
   "id": "e22c40c7-da57-4148-a9ac-10091d194158",
   "metadata": {},
   "outputs": [
    {
     "name": "stdout",
     "output_type": "stream",
     "text": [
      "Accuracy: 0.9327288888888889\n"
     ]
    }
   ],
   "source": [
    "accuracy = accuracy_score(y_test, y_pred)\n",
    "print(\"Accuracy:\", accuracy)"
   ]
  },
  {
   "cell_type": "code",
   "execution_count": 170,
   "id": "731cb219-93b1-4c66-8282-3e1555645b4e",
   "metadata": {},
   "outputs": [
    {
     "name": "stdout",
     "output_type": "stream",
     "text": [
      "              precision    recall  f1-score   support\n",
      "\n",
      "           0       0.95      0.97      0.96     22961\n",
      "           1       0.84      0.79      0.81      5164\n",
      "\n",
      "    accuracy                           0.93     28125\n",
      "   macro avg       0.89      0.88      0.89     28125\n",
      "weighted avg       0.93      0.93      0.93     28125\n",
      "\n"
     ]
    }
   ],
   "source": [
    "print(classification_report(y_test, y_pred))"
   ]
  },
  {
   "cell_type": "markdown",
   "id": "6639506c-85e1-4bac-a2dc-003306c896b4",
   "metadata": {},
   "source": [
    "93.3% accuracy is pretty strong."
   ]
  },
  {
   "cell_type": "code",
   "execution_count": 171,
   "id": "d63f78e2-9074-4623-84d9-136729a34cc7",
   "metadata": {},
   "outputs": [
    {
     "name": "stdout",
     "output_type": "stream",
     "text": [
      "Accuracy: 0.928997867803838\n"
     ]
    },
    {
     "data": {
      "image/png": "[encoded data removed]",
      "text/plain": [
       "<Figure size 640x480 with 2 Axes>"
      ]
     },
     "metadata": {},
     "output_type": "display_data"
    }
   ],
   "source": [
    "#the test sets we will run may not have the same sleep values we tested on.\n",
    "#before trying to get a new solution that looks at the numberse in the sleep column, I will remove it from the model first.\n",
    "\n",
    "clean_data = data\n",
    "\n",
    "clean_data.loc[clean_data['Gender'] == 'Male', 'Gender'] = 1\n",
    "clean_data.loc[clean_data['Gender'] == 'Female', 'Gender'] = 0\n",
    "\n",
    "clean_data.loc[clean_data['Have you ever had suicidal thoughts ?'] == 'Yes', 'Have you ever had suicidal thoughts ?'] = 1\n",
    "clean_data.loc[clean_data['Have you ever had suicidal thoughts ?'] == 'No', 'Have you ever had suicidal thoughts ?'] = 0\n",
    "\n",
    "clean_data.loc[clean_data['Family History of Mental Illness'] == 'Yes', 'Family History of Mental Illness'] = 1\n",
    "clean_data.loc[clean_data['Family History of Mental Illness'] == 'No', 'Family History of Mental Illness'] = 0\n",
    "\n",
    "clean_data.loc[clean_data['Working Professional or Student'] == 'Working Professional', 'Working Professional or Student'] = 0\n",
    "clean_data.loc[clean_data['Working Professional or Student'] == 'Student', 'Working Professional or Student'] = 1\n",
    "\n",
    "clean_data = data\n",
    "clean_data['CGPA'] = clean_data['CGPA'].fillna(0)\n",
    "clean_data['Academic Pressure'] = clean_data['Academic Pressure'].fillna(0)\n",
    "clean_data['Work Pressure'] = clean_data['Work Pressure'].fillna(0)\n",
    "clean_data['Study Satisfaction'] = clean_data['Study Satisfaction'].fillna(0)\n",
    "clean_data['Job Satisfaction'] = clean_data['Job Satisfaction'].fillna(0)\n",
    "clean_data['Financial Stress'] = clean_data['Financial Stress'].fillna(0)\n",
    "\n",
    "scaler = MinMaxScaler()\n",
    "#columns that are non binary (not 1s or 0s)\n",
    "numeric_columns = [ 'Age', 'Academic Pressure', \n",
    "                           'Work Pressure', 'CGPA', 'Study Satisfaction', 'Job Satisfaction',\n",
    "                           'Work/Study Hours', 'Financial Stress']\n",
    "clean_data_norm = scaler.fit_transform(clean_data[numeric_columns])\n",
    "\n",
    "clean_data_norm = pd.DataFrame(clean_data_norm, \n",
    "                           columns=numeric_columns, \n",
    "                           index=clean_data.index)\n",
    "\n",
    "x_vals_add_in = ['Gender', 'Working Professional or Student',  'Have you ever had suicidal thoughts ?',\n",
    "                        'Family History of Mental Illness']\n",
    "y_data = clean_data['Depression']\n",
    "\n",
    "X_data = pd.concat([clean_data_norm, clean_data[x_vals_add_in]], axis=1)\n",
    "\n",
    "X_train, X_test, y_train, y_test = train_test_split(X_data, y_data, test_size=0.2, random_state=10)\n",
    "\n",
    "\n",
    "rf = RandomForestClassifier()\n",
    "rf.fit(X_train, y_train)\n",
    "\n",
    "\n",
    "y_pred = rf.predict(X_test)\n",
    "cm = confusion_matrix(y_test, y_pred)\n",
    "\n",
    "ConfusionMatrixDisplay(confusion_matrix=cm).plot();\n",
    "\n",
    "accuracy = accuracy_score(y_test, y_pred)\n",
    "print(\"Accuracy:\", accuracy)"
   ]
  },
  {
   "cell_type": "markdown",
   "id": "4fe8419b-8fef-48c1-abec-b228e98bd0f2",
   "metadata": {},
   "source": [
    "Bring in test data to produce a contest submission"
   ]
  },
  {
   "cell_type": "code",
   "execution_count": 172,
   "id": "99c01491-4e78-4d7c-b585-37a34ec4be11",
   "metadata": {},
   "outputs": [],
   "source": [
    "submission_test = pd.read_csv('test.csv')"
   ]
  },
  {
   "cell_type": "code",
   "execution_count": 173,
   "id": "4c5d7884-4782-41d6-b8d5-c9be1d30e12d",
   "metadata": {},
   "outputs": [
    {
     "data": {
      "text/html": [
       "<div>\n",
       "<style scoped>\n",
       "    .dataframe tbody tr th:only-of-type {\n",
       "        vertical-align: middle;\n",
       "    }\n",
       "\n",
       "    .dataframe tbody tr th {\n",
       "        vertical-align: top;\n",
       "    }\n",
       "\n",
       "    .dataframe thead th {\n",
       "        text-align: right;\n",
       "    }\n",
       "</style>\n",
       "<table border=\"1\" class=\"dataframe\">\n",
       "  <thead>\n",
       "    <tr style=\"text-align: right;\">\n",
       "      <th></th>\n",
       "      <th>id</th>\n",
       "      <th>Name</th>\n",
       "      <th>Gender</th>\n",
       "      <th>Age</th>\n",
       "      <th>City</th>\n",
       "      <th>Working Professional or Student</th>\n",
       "      <th>Profession</th>\n",
       "      <th>Academic Pressure</th>\n",
       "      <th>Work Pressure</th>\n",
       "      <th>CGPA</th>\n",
       "      <th>Study Satisfaction</th>\n",
       "      <th>Job Satisfaction</th>\n",
       "      <th>Sleep Duration</th>\n",
       "      <th>Dietary Habits</th>\n",
       "      <th>Degree</th>\n",
       "      <th>Have you ever had suicidal thoughts ?</th>\n",
       "      <th>Work/Study Hours</th>\n",
       "      <th>Financial Stress</th>\n",
       "      <th>Family History of Mental Illness</th>\n",
       "    </tr>\n",
       "  </thead>\n",
       "  <tbody>\n",
       "    <tr>\n",
       "      <th>0</th>\n",
       "      <td>140700</td>\n",
       "      <td>Shivam</td>\n",
       "      <td>Male</td>\n",
       "      <td>53.0</td>\n",
       "      <td>Visakhapatnam</td>\n",
       "      <td>Working Professional</td>\n",
       "      <td>Judge</td>\n",
       "      <td>NaN</td>\n",
       "      <td>2.0</td>\n",
       "      <td>NaN</td>\n",
       "      <td>NaN</td>\n",
       "      <td>5.0</td>\n",
       "      <td>Less than 5 hours</td>\n",
       "      <td>Moderate</td>\n",
       "      <td>LLB</td>\n",
       "      <td>No</td>\n",
       "      <td>9.0</td>\n",
       "      <td>3.0</td>\n",
       "      <td>Yes</td>\n",
       "    </tr>\n",
       "    <tr>\n",
       "      <th>1</th>\n",
       "      <td>140701</td>\n",
       "      <td>Sanya</td>\n",
       "      <td>Female</td>\n",
       "      <td>58.0</td>\n",
       "      <td>Kolkata</td>\n",
       "      <td>Working Professional</td>\n",
       "      <td>Educational Consultant</td>\n",
       "      <td>NaN</td>\n",
       "      <td>2.0</td>\n",
       "      <td>NaN</td>\n",
       "      <td>NaN</td>\n",
       "      <td>4.0</td>\n",
       "      <td>Less than 5 hours</td>\n",
       "      <td>Moderate</td>\n",
       "      <td>B.Ed</td>\n",
       "      <td>No</td>\n",
       "      <td>6.0</td>\n",
       "      <td>4.0</td>\n",
       "      <td>No</td>\n",
       "    </tr>\n",
       "    <tr>\n",
       "      <th>2</th>\n",
       "      <td>140702</td>\n",
       "      <td>Yash</td>\n",
       "      <td>Male</td>\n",
       "      <td>53.0</td>\n",
       "      <td>Jaipur</td>\n",
       "      <td>Working Professional</td>\n",
       "      <td>Teacher</td>\n",
       "      <td>NaN</td>\n",
       "      <td>4.0</td>\n",
       "      <td>NaN</td>\n",
       "      <td>NaN</td>\n",
       "      <td>1.0</td>\n",
       "      <td>7-8 hours</td>\n",
       "      <td>Moderate</td>\n",
       "      <td>B.Arch</td>\n",
       "      <td>Yes</td>\n",
       "      <td>12.0</td>\n",
       "      <td>4.0</td>\n",
       "      <td>No</td>\n",
       "    </tr>\n",
       "    <tr>\n",
       "      <th>3</th>\n",
       "      <td>140703</td>\n",
       "      <td>Nalini</td>\n",
       "      <td>Female</td>\n",
       "      <td>23.0</td>\n",
       "      <td>Rajkot</td>\n",
       "      <td>Student</td>\n",
       "      <td>NaN</td>\n",
       "      <td>5.0</td>\n",
       "      <td>NaN</td>\n",
       "      <td>6.84</td>\n",
       "      <td>1.0</td>\n",
       "      <td>NaN</td>\n",
       "      <td>More than 8 hours</td>\n",
       "      <td>Moderate</td>\n",
       "      <td>BSc</td>\n",
       "      <td>Yes</td>\n",
       "      <td>10.0</td>\n",
       "      <td>4.0</td>\n",
       "      <td>No</td>\n",
       "    </tr>\n",
       "    <tr>\n",
       "      <th>4</th>\n",
       "      <td>140704</td>\n",
       "      <td>Shaurya</td>\n",
       "      <td>Male</td>\n",
       "      <td>47.0</td>\n",
       "      <td>Kalyan</td>\n",
       "      <td>Working Professional</td>\n",
       "      <td>Teacher</td>\n",
       "      <td>NaN</td>\n",
       "      <td>5.0</td>\n",
       "      <td>NaN</td>\n",
       "      <td>NaN</td>\n",
       "      <td>5.0</td>\n",
       "      <td>7-8 hours</td>\n",
       "      <td>Moderate</td>\n",
       "      <td>BCA</td>\n",
       "      <td>Yes</td>\n",
       "      <td>3.0</td>\n",
       "      <td>4.0</td>\n",
       "      <td>No</td>\n",
       "    </tr>\n",
       "  </tbody>\n",
       "</table>\n",
       "</div>"
      ],
      "text/plain": [
       "       id     Name  Gender   Age           City  \\\n",
       "0  140700   Shivam    Male  53.0  Visakhapatnam   \n",
       "1  140701    Sanya  Female  58.0        Kolkata   \n",
       "2  140702     Yash    Male  53.0         Jaipur   \n",
       "3  140703   Nalini  Female  23.0         Rajkot   \n",
       "4  140704  Shaurya    Male  47.0         Kalyan   \n",
       "\n",
       "  Working Professional or Student              Profession  Academic Pressure  \\\n",
       "0            Working Professional                   Judge                NaN   \n",
       "1            Working Professional  Educational Consultant                NaN   \n",
       "2            Working Professional                 Teacher                NaN   \n",
       "3                         Student                     NaN                5.0   \n",
       "4            Working Professional                 Teacher                NaN   \n",
       "\n",
       "   Work Pressure  CGPA  Study Satisfaction  Job Satisfaction  \\\n",
       "0            2.0   NaN                 NaN               5.0   \n",
       "1            2.0   NaN                 NaN               4.0   \n",
       "2            4.0   NaN                 NaN               1.0   \n",
       "3            NaN  6.84                 1.0               NaN   \n",
       "4            5.0   NaN                 NaN               5.0   \n",
       "\n",
       "      Sleep Duration Dietary Habits  Degree  \\\n",
       "0  Less than 5 hours       Moderate     LLB   \n",
       "1  Less than 5 hours       Moderate    B.Ed   \n",
       "2          7-8 hours       Moderate  B.Arch   \n",
       "3  More than 8 hours       Moderate     BSc   \n",
       "4          7-8 hours       Moderate     BCA   \n",
       "\n",
       "  Have you ever had suicidal thoughts ?  Work/Study Hours  Financial Stress  \\\n",
       "0                                    No               9.0               3.0   \n",
       "1                                    No               6.0               4.0   \n",
       "2                                   Yes              12.0               4.0   \n",
       "3                                   Yes              10.0               4.0   \n",
       "4                                   Yes               3.0               4.0   \n",
       "\n",
       "  Family History of Mental Illness  \n",
       "0                              Yes  \n",
       "1                               No  \n",
       "2                               No  \n",
       "3                               No  \n",
       "4                               No  "
      ]
     },
     "execution_count": 173,
     "metadata": {},
     "output_type": "execute_result"
    }
   ],
   "source": [
    "submission_test.head()"
   ]
  },
  {
   "cell_type": "code",
   "execution_count": 174,
   "id": "71804ea2-5f39-481e-9ba8-af8782d99c83",
   "metadata": {},
   "outputs": [
    {
     "data": {
      "text/plain": [
       "(93800, 19)"
      ]
     },
     "execution_count": 174,
     "metadata": {},
     "output_type": "execute_result"
    }
   ],
   "source": [
    "submission_test.shape"
   ]
  },
  {
   "cell_type": "code",
   "execution_count": 175,
   "id": "2e12dc36-9ce8-4bb2-b6a8-138ee72a9acd",
   "metadata": {},
   "outputs": [],
   "source": [
    "#start here\n",
    "\n",
    "#need to figure out how to run this test data through our cleaning so that it can go through the model \n",
    "#then we need to figure out how to get the results by id for the submission"
   ]
  },
  {
   "cell_type": "code",
   "execution_count": 176,
   "id": "af7fbb3b-07b3-441a-8eac-79830ee3a71a",
   "metadata": {},
   "outputs": [
    {
     "data": {
      "text/plain": [
       "0"
      ]
     },
     "execution_count": 176,
     "metadata": {},
     "output_type": "execute_result"
    }
   ],
   "source": [
    "submission_test['Working Professional or Student'].isnull().sum()"
   ]
  },
  {
   "cell_type": "code",
   "execution_count": 177,
   "id": "8f6a3e84-c750-47cf-b738-64cc5b8bf2e2",
   "metadata": {},
   "outputs": [
    {
     "data": {
      "text/html": [
       "<div>\n",
       "<style scoped>\n",
       "    .dataframe tbody tr th:only-of-type {\n",
       "        vertical-align: middle;\n",
       "    }\n",
       "\n",
       "    .dataframe tbody tr th {\n",
       "        vertical-align: top;\n",
       "    }\n",
       "\n",
       "    .dataframe thead th {\n",
       "        text-align: right;\n",
       "    }\n",
       "</style>\n",
       "<table border=\"1\" class=\"dataframe\">\n",
       "  <thead>\n",
       "    <tr style=\"text-align: right;\">\n",
       "      <th></th>\n",
       "      <th>id</th>\n",
       "      <th>Name</th>\n",
       "      <th>Gender</th>\n",
       "      <th>Age</th>\n",
       "      <th>City</th>\n",
       "      <th>Working Professional or Student</th>\n",
       "      <th>Profession</th>\n",
       "      <th>Academic Pressure</th>\n",
       "      <th>Work Pressure</th>\n",
       "      <th>CGPA</th>\n",
       "      <th>Study Satisfaction</th>\n",
       "      <th>Job Satisfaction</th>\n",
       "      <th>Sleep Duration</th>\n",
       "      <th>Dietary Habits</th>\n",
       "      <th>Degree</th>\n",
       "      <th>Have you ever had suicidal thoughts ?</th>\n",
       "      <th>Work/Study Hours</th>\n",
       "      <th>Financial Stress</th>\n",
       "      <th>Family History of Mental Illness</th>\n",
       "    </tr>\n",
       "  </thead>\n",
       "  <tbody>\n",
       "    <tr>\n",
       "      <th>16</th>\n",
       "      <td>140716</td>\n",
       "      <td>Rudra</td>\n",
       "      <td>Male</td>\n",
       "      <td>52.0</td>\n",
       "      <td>Meerut</td>\n",
       "      <td>Working Professional</td>\n",
       "      <td>Digital Marketer</td>\n",
       "      <td>NaN</td>\n",
       "      <td>3.0</td>\n",
       "      <td>NaN</td>\n",
       "      <td>NaN</td>\n",
       "      <td>3.0</td>\n",
       "      <td>7-8 hours</td>\n",
       "      <td>Healthy</td>\n",
       "      <td>MA</td>\n",
       "      <td>Yes</td>\n",
       "      <td>4.0</td>\n",
       "      <td>2.0</td>\n",
       "      <td>No</td>\n",
       "    </tr>\n",
       "    <tr>\n",
       "      <th>45</th>\n",
       "      <td>140745</td>\n",
       "      <td>Abhishek</td>\n",
       "      <td>Male</td>\n",
       "      <td>18.0</td>\n",
       "      <td>Meerut</td>\n",
       "      <td>Working Professional</td>\n",
       "      <td>NaN</td>\n",
       "      <td>NaN</td>\n",
       "      <td>5.0</td>\n",
       "      <td>NaN</td>\n",
       "      <td>NaN</td>\n",
       "      <td>4.0</td>\n",
       "      <td>More than 8 hours</td>\n",
       "      <td>Unhealthy</td>\n",
       "      <td>Class 12</td>\n",
       "      <td>No</td>\n",
       "      <td>9.0</td>\n",
       "      <td>2.0</td>\n",
       "      <td>Yes</td>\n",
       "    </tr>\n",
       "    <tr>\n",
       "      <th>79</th>\n",
       "      <td>140779</td>\n",
       "      <td>Aarav</td>\n",
       "      <td>Male</td>\n",
       "      <td>25.0</td>\n",
       "      <td>Meerut</td>\n",
       "      <td>Student</td>\n",
       "      <td>NaN</td>\n",
       "      <td>1.0</td>\n",
       "      <td>NaN</td>\n",
       "      <td>9.41</td>\n",
       "      <td>5.0</td>\n",
       "      <td>NaN</td>\n",
       "      <td>5-6 hours</td>\n",
       "      <td>Moderate</td>\n",
       "      <td>B.Com</td>\n",
       "      <td>Yes</td>\n",
       "      <td>7.0</td>\n",
       "      <td>2.0</td>\n",
       "      <td>No</td>\n",
       "    </tr>\n",
       "    <tr>\n",
       "      <th>123</th>\n",
       "      <td>140823</td>\n",
       "      <td>Rudra</td>\n",
       "      <td>Male</td>\n",
       "      <td>52.0</td>\n",
       "      <td>Meerut</td>\n",
       "      <td>Working Professional</td>\n",
       "      <td>Digital Marketer</td>\n",
       "      <td>NaN</td>\n",
       "      <td>4.0</td>\n",
       "      <td>NaN</td>\n",
       "      <td>NaN</td>\n",
       "      <td>2.0</td>\n",
       "      <td>Less than 5 hours</td>\n",
       "      <td>Moderate</td>\n",
       "      <td>MA</td>\n",
       "      <td>No</td>\n",
       "      <td>4.0</td>\n",
       "      <td>3.0</td>\n",
       "      <td>No</td>\n",
       "    </tr>\n",
       "    <tr>\n",
       "      <th>173</th>\n",
       "      <td>140873</td>\n",
       "      <td>Pranav</td>\n",
       "      <td>Male</td>\n",
       "      <td>32.0</td>\n",
       "      <td>Meerut</td>\n",
       "      <td>Student</td>\n",
       "      <td>NaN</td>\n",
       "      <td>1.0</td>\n",
       "      <td>NaN</td>\n",
       "      <td>7.88</td>\n",
       "      <td>3.0</td>\n",
       "      <td>NaN</td>\n",
       "      <td>Less than 5 hours</td>\n",
       "      <td>Unhealthy</td>\n",
       "      <td>B.Arch</td>\n",
       "      <td>No</td>\n",
       "      <td>10.0</td>\n",
       "      <td>5.0</td>\n",
       "      <td>No</td>\n",
       "    </tr>\n",
       "    <tr>\n",
       "      <th>...</th>\n",
       "      <td>...</td>\n",
       "      <td>...</td>\n",
       "      <td>...</td>\n",
       "      <td>...</td>\n",
       "      <td>...</td>\n",
       "      <td>...</td>\n",
       "      <td>...</td>\n",
       "      <td>...</td>\n",
       "      <td>...</td>\n",
       "      <td>...</td>\n",
       "      <td>...</td>\n",
       "      <td>...</td>\n",
       "      <td>...</td>\n",
       "      <td>...</td>\n",
       "      <td>...</td>\n",
       "      <td>...</td>\n",
       "      <td>...</td>\n",
       "      <td>...</td>\n",
       "      <td>...</td>\n",
       "    </tr>\n",
       "    <tr>\n",
       "      <th>93591</th>\n",
       "      <td>234291</td>\n",
       "      <td>Ritik</td>\n",
       "      <td>Male</td>\n",
       "      <td>33.0</td>\n",
       "      <td>Meerut</td>\n",
       "      <td>Working Professional</td>\n",
       "      <td>Pilot</td>\n",
       "      <td>NaN</td>\n",
       "      <td>5.0</td>\n",
       "      <td>NaN</td>\n",
       "      <td>NaN</td>\n",
       "      <td>1.0</td>\n",
       "      <td>7-8 hours</td>\n",
       "      <td>Moderate</td>\n",
       "      <td>MSc</td>\n",
       "      <td>Yes</td>\n",
       "      <td>7.0</td>\n",
       "      <td>3.0</td>\n",
       "      <td>No</td>\n",
       "    </tr>\n",
       "    <tr>\n",
       "      <th>93617</th>\n",
       "      <td>234317</td>\n",
       "      <td>Ritvik</td>\n",
       "      <td>Male</td>\n",
       "      <td>57.0</td>\n",
       "      <td>Meerut</td>\n",
       "      <td>Working Professional</td>\n",
       "      <td>Lawyer</td>\n",
       "      <td>NaN</td>\n",
       "      <td>3.0</td>\n",
       "      <td>NaN</td>\n",
       "      <td>NaN</td>\n",
       "      <td>4.0</td>\n",
       "      <td>7-8 hours</td>\n",
       "      <td>Moderate</td>\n",
       "      <td>LLM</td>\n",
       "      <td>Yes</td>\n",
       "      <td>8.0</td>\n",
       "      <td>1.0</td>\n",
       "      <td>No</td>\n",
       "    </tr>\n",
       "    <tr>\n",
       "      <th>93685</th>\n",
       "      <td>234385</td>\n",
       "      <td>Sai</td>\n",
       "      <td>Male</td>\n",
       "      <td>22.0</td>\n",
       "      <td>Meerut</td>\n",
       "      <td>Student</td>\n",
       "      <td>NaN</td>\n",
       "      <td>2.0</td>\n",
       "      <td>NaN</td>\n",
       "      <td>9.93</td>\n",
       "      <td>4.0</td>\n",
       "      <td>NaN</td>\n",
       "      <td>Less than 5 hours</td>\n",
       "      <td>Healthy</td>\n",
       "      <td>MCA</td>\n",
       "      <td>No</td>\n",
       "      <td>5.0</td>\n",
       "      <td>4.0</td>\n",
       "      <td>Yes</td>\n",
       "    </tr>\n",
       "    <tr>\n",
       "      <th>93709</th>\n",
       "      <td>234409</td>\n",
       "      <td>Raghav</td>\n",
       "      <td>Male</td>\n",
       "      <td>51.0</td>\n",
       "      <td>Meerut</td>\n",
       "      <td>Working Professional</td>\n",
       "      <td>Doctor</td>\n",
       "      <td>NaN</td>\n",
       "      <td>1.0</td>\n",
       "      <td>NaN</td>\n",
       "      <td>NaN</td>\n",
       "      <td>4.0</td>\n",
       "      <td>5-6 hours</td>\n",
       "      <td>Healthy</td>\n",
       "      <td>B.Pharm</td>\n",
       "      <td>No</td>\n",
       "      <td>4.0</td>\n",
       "      <td>2.0</td>\n",
       "      <td>No</td>\n",
       "    </tr>\n",
       "    <tr>\n",
       "      <th>93713</th>\n",
       "      <td>234413</td>\n",
       "      <td>Palak</td>\n",
       "      <td>Female</td>\n",
       "      <td>57.0</td>\n",
       "      <td>Meerut</td>\n",
       "      <td>Working Professional</td>\n",
       "      <td>Teacher</td>\n",
       "      <td>NaN</td>\n",
       "      <td>2.0</td>\n",
       "      <td>NaN</td>\n",
       "      <td>NaN</td>\n",
       "      <td>1.0</td>\n",
       "      <td>7-8 hours</td>\n",
       "      <td>Moderate</td>\n",
       "      <td>B.Arch</td>\n",
       "      <td>No</td>\n",
       "      <td>11.0</td>\n",
       "      <td>4.0</td>\n",
       "      <td>No</td>\n",
       "    </tr>\n",
       "  </tbody>\n",
       "</table>\n",
       "<p>3663 rows × 19 columns</p>\n",
       "</div>"
      ],
      "text/plain": [
       "           id      Name  Gender   Age    City Working Professional or Student  \\\n",
       "16     140716     Rudra    Male  52.0  Meerut            Working Professional   \n",
       "45     140745  Abhishek    Male  18.0  Meerut            Working Professional   \n",
       "79     140779     Aarav    Male  25.0  Meerut                         Student   \n",
       "123    140823     Rudra    Male  52.0  Meerut            Working Professional   \n",
       "173    140873    Pranav    Male  32.0  Meerut                         Student   \n",
       "...       ...       ...     ...   ...     ...                             ...   \n",
       "93591  234291     Ritik    Male  33.0  Meerut            Working Professional   \n",
       "93617  234317    Ritvik    Male  57.0  Meerut            Working Professional   \n",
       "93685  234385       Sai    Male  22.0  Meerut                         Student   \n",
       "93709  234409    Raghav    Male  51.0  Meerut            Working Professional   \n",
       "93713  234413     Palak  Female  57.0  Meerut            Working Professional   \n",
       "\n",
       "             Profession  Academic Pressure  Work Pressure  CGPA  \\\n",
       "16     Digital Marketer                NaN            3.0   NaN   \n",
       "45                  NaN                NaN            5.0   NaN   \n",
       "79                  NaN                1.0            NaN  9.41   \n",
       "123    Digital Marketer                NaN            4.0   NaN   \n",
       "173                 NaN                1.0            NaN  7.88   \n",
       "...                 ...                ...            ...   ...   \n",
       "93591             Pilot                NaN            5.0   NaN   \n",
       "93617            Lawyer                NaN            3.0   NaN   \n",
       "93685               NaN                2.0            NaN  9.93   \n",
       "93709            Doctor                NaN            1.0   NaN   \n",
       "93713           Teacher                NaN            2.0   NaN   \n",
       "\n",
       "       Study Satisfaction  Job Satisfaction     Sleep Duration Dietary Habits  \\\n",
       "16                    NaN               3.0          7-8 hours        Healthy   \n",
       "45                    NaN               4.0  More than 8 hours      Unhealthy   \n",
       "79                    5.0               NaN          5-6 hours       Moderate   \n",
       "123                   NaN               2.0  Less than 5 hours       Moderate   \n",
       "173                   3.0               NaN  Less than 5 hours      Unhealthy   \n",
       "...                   ...               ...                ...            ...   \n",
       "93591                 NaN               1.0          7-8 hours       Moderate   \n",
       "93617                 NaN               4.0          7-8 hours       Moderate   \n",
       "93685                 4.0               NaN  Less than 5 hours        Healthy   \n",
       "93709                 NaN               4.0          5-6 hours        Healthy   \n",
       "93713                 NaN               1.0          7-8 hours       Moderate   \n",
       "\n",
       "         Degree Have you ever had suicidal thoughts ?  Work/Study Hours  \\\n",
       "16           MA                                   Yes               4.0   \n",
       "45     Class 12                                    No               9.0   \n",
       "79        B.Com                                   Yes               7.0   \n",
       "123          MA                                    No               4.0   \n",
       "173      B.Arch                                    No              10.0   \n",
       "...         ...                                   ...               ...   \n",
       "93591       MSc                                   Yes               7.0   \n",
       "93617       LLM                                   Yes               8.0   \n",
       "93685       MCA                                    No               5.0   \n",
       "93709   B.Pharm                                    No               4.0   \n",
       "93713    B.Arch                                    No              11.0   \n",
       "\n",
       "       Financial Stress Family History of Mental Illness  \n",
       "16                  2.0                               No  \n",
       "45                  2.0                              Yes  \n",
       "79                  2.0                               No  \n",
       "123                 3.0                               No  \n",
       "173                 5.0                               No  \n",
       "...                 ...                              ...  \n",
       "93591               3.0                               No  \n",
       "93617               1.0                               No  \n",
       "93685               4.0                              Yes  \n",
       "93709               2.0                               No  \n",
       "93713               4.0                               No  \n",
       "\n",
       "[3663 rows x 19 columns]"
      ]
     },
     "execution_count": 177,
     "metadata": {},
     "output_type": "execute_result"
    }
   ],
   "source": [
    "submission_test[submission_test.apply(lambda r: r.str.contains('Meerut').any(), axis=1)]"
   ]
  },
  {
   "cell_type": "code",
   "execution_count": 178,
   "id": "56271ebc-5772-4c30-ada1-d1332e24540d",
   "metadata": {},
   "outputs": [
    {
     "data": {
      "text/plain": [
       "array(['Less than 5 hours', '7-8 hours', 'More than 8 hours', '5-6 hours',\n",
       "       '0', 'Meerut', '9-5 hours', '6-7 hours', '60-65 hours', 'Vivan',\n",
       "       '3-4 hours', '1-6 hours', '9-5', 'Unhealthy', '8-9 hours',\n",
       "       '4-5 hours', 'than 5 hours', '9-6 hours', '1-2 hours',\n",
       "       '8-89 hours', 'Have_you_ever_had_suicidal_thoughts', '20-21 hours',\n",
       "       '10-6 hours', '1-3 hours', '6 hours', '50-75 hours', '4-6 hours',\n",
       "       '2-3 hours', '9-11 hours', '9-10 hours', '3-6 hours'], dtype=object)"
      ]
     },
     "execution_count": 178,
     "metadata": {},
     "output_type": "execute_result"
    }
   ],
   "source": [
    "submission_test['Sleep Duration'].unique()"
   ]
  },
  {
   "cell_type": "code",
   "execution_count": 179,
   "id": "ceefa57a-faf9-4995-9267-ee052cba6c03",
   "metadata": {},
   "outputs": [
    {
     "data": {
      "text/html": [
       "<div>\n",
       "<style scoped>\n",
       "    .dataframe tbody tr th:only-of-type {\n",
       "        vertical-align: middle;\n",
       "    }\n",
       "\n",
       "    .dataframe tbody tr th {\n",
       "        vertical-align: top;\n",
       "    }\n",
       "\n",
       "    .dataframe thead th {\n",
       "        text-align: right;\n",
       "    }\n",
       "</style>\n",
       "<table border=\"1\" class=\"dataframe\">\n",
       "  <thead>\n",
       "    <tr style=\"text-align: right;\">\n",
       "      <th></th>\n",
       "      <th>Age</th>\n",
       "      <th>Academic Pressure</th>\n",
       "      <th>Work Pressure</th>\n",
       "      <th>CGPA</th>\n",
       "      <th>Study Satisfaction</th>\n",
       "      <th>Job Satisfaction</th>\n",
       "      <th>Work/Study Hours</th>\n",
       "      <th>Financial Stress</th>\n",
       "      <th>Gender</th>\n",
       "      <th>Working Professional or Student</th>\n",
       "      <th>Have you ever had suicidal thoughts ?</th>\n",
       "      <th>Family History of Mental Illness</th>\n",
       "    </tr>\n",
       "  </thead>\n",
       "  <tbody>\n",
       "    <tr>\n",
       "      <th>0</th>\n",
       "      <td>0.833333</td>\n",
       "      <td>0.0</td>\n",
       "      <td>0.4</td>\n",
       "      <td>0.000</td>\n",
       "      <td>0.0</td>\n",
       "      <td>1.0</td>\n",
       "      <td>0.750000</td>\n",
       "      <td>0.50</td>\n",
       "      <td>1</td>\n",
       "      <td>0</td>\n",
       "      <td>0</td>\n",
       "      <td>1</td>\n",
       "    </tr>\n",
       "    <tr>\n",
       "      <th>1</th>\n",
       "      <td>0.952381</td>\n",
       "      <td>0.0</td>\n",
       "      <td>0.4</td>\n",
       "      <td>0.000</td>\n",
       "      <td>0.0</td>\n",
       "      <td>0.8</td>\n",
       "      <td>0.500000</td>\n",
       "      <td>0.75</td>\n",
       "      <td>0</td>\n",
       "      <td>0</td>\n",
       "      <td>0</td>\n",
       "      <td>0</td>\n",
       "    </tr>\n",
       "    <tr>\n",
       "      <th>2</th>\n",
       "      <td>0.833333</td>\n",
       "      <td>0.0</td>\n",
       "      <td>0.8</td>\n",
       "      <td>0.000</td>\n",
       "      <td>0.0</td>\n",
       "      <td>0.2</td>\n",
       "      <td>1.000000</td>\n",
       "      <td>0.75</td>\n",
       "      <td>1</td>\n",
       "      <td>0</td>\n",
       "      <td>1</td>\n",
       "      <td>0</td>\n",
       "    </tr>\n",
       "    <tr>\n",
       "      <th>3</th>\n",
       "      <td>0.119048</td>\n",
       "      <td>1.0</td>\n",
       "      <td>0.0</td>\n",
       "      <td>0.684</td>\n",
       "      <td>0.2</td>\n",
       "      <td>0.0</td>\n",
       "      <td>0.833333</td>\n",
       "      <td>0.75</td>\n",
       "      <td>0</td>\n",
       "      <td>1</td>\n",
       "      <td>1</td>\n",
       "      <td>0</td>\n",
       "    </tr>\n",
       "    <tr>\n",
       "      <th>4</th>\n",
       "      <td>0.690476</td>\n",
       "      <td>0.0</td>\n",
       "      <td>1.0</td>\n",
       "      <td>0.000</td>\n",
       "      <td>0.0</td>\n",
       "      <td>1.0</td>\n",
       "      <td>0.250000</td>\n",
       "      <td>0.75</td>\n",
       "      <td>1</td>\n",
       "      <td>0</td>\n",
       "      <td>1</td>\n",
       "      <td>0</td>\n",
       "    </tr>\n",
       "    <tr>\n",
       "      <th>...</th>\n",
       "      <td>...</td>\n",
       "      <td>...</td>\n",
       "      <td>...</td>\n",
       "      <td>...</td>\n",
       "      <td>...</td>\n",
       "      <td>...</td>\n",
       "      <td>...</td>\n",
       "      <td>...</td>\n",
       "      <td>...</td>\n",
       "      <td>...</td>\n",
       "      <td>...</td>\n",
       "      <td>...</td>\n",
       "    </tr>\n",
       "    <tr>\n",
       "      <th>93795</th>\n",
       "      <td>0.738095</td>\n",
       "      <td>0.0</td>\n",
       "      <td>0.6</td>\n",
       "      <td>0.000</td>\n",
       "      <td>0.0</td>\n",
       "      <td>1.0</td>\n",
       "      <td>0.166667</td>\n",
       "      <td>0.25</td>\n",
       "      <td>0</td>\n",
       "      <td>0</td>\n",
       "      <td>1</td>\n",
       "      <td>1</td>\n",
       "    </tr>\n",
       "    <tr>\n",
       "      <th>93796</th>\n",
       "      <td>0.261905</td>\n",
       "      <td>0.0</td>\n",
       "      <td>1.0</td>\n",
       "      <td>0.000</td>\n",
       "      <td>0.0</td>\n",
       "      <td>0.2</td>\n",
       "      <td>0.916667</td>\n",
       "      <td>0.50</td>\n",
       "      <td>1</td>\n",
       "      <td>0</td>\n",
       "      <td>1</td>\n",
       "      <td>1</td>\n",
       "    </tr>\n",
       "    <tr>\n",
       "      <th>93797</th>\n",
       "      <td>0.142857</td>\n",
       "      <td>0.2</td>\n",
       "      <td>0.0</td>\n",
       "      <td>0.751</td>\n",
       "      <td>0.8</td>\n",
       "      <td>0.0</td>\n",
       "      <td>0.583333</td>\n",
       "      <td>0.00</td>\n",
       "      <td>1</td>\n",
       "      <td>1</td>\n",
       "      <td>0</td>\n",
       "      <td>0</td>\n",
       "    </tr>\n",
       "    <tr>\n",
       "      <th>93798</th>\n",
       "      <td>0.119048</td>\n",
       "      <td>0.0</td>\n",
       "      <td>0.8</td>\n",
       "      <td>0.000</td>\n",
       "      <td>0.0</td>\n",
       "      <td>0.4</td>\n",
       "      <td>0.583333</td>\n",
       "      <td>1.00</td>\n",
       "      <td>0</td>\n",
       "      <td>0</td>\n",
       "      <td>1</td>\n",
       "      <td>1</td>\n",
       "    </tr>\n",
       "    <tr>\n",
       "      <th>93799</th>\n",
       "      <td>0.595238</td>\n",
       "      <td>0.0</td>\n",
       "      <td>1.0</td>\n",
       "      <td>0.000</td>\n",
       "      <td>0.0</td>\n",
       "      <td>0.4</td>\n",
       "      <td>0.916667</td>\n",
       "      <td>0.25</td>\n",
       "      <td>0</td>\n",
       "      <td>0</td>\n",
       "      <td>0</td>\n",
       "      <td>0</td>\n",
       "    </tr>\n",
       "  </tbody>\n",
       "</table>\n",
       "<p>93800 rows × 12 columns</p>\n",
       "</div>"
      ],
      "text/plain": [
       "            Age  Academic Pressure  Work Pressure   CGPA  Study Satisfaction  \\\n",
       "0      0.833333                0.0            0.4  0.000                 0.0   \n",
       "1      0.952381                0.0            0.4  0.000                 0.0   \n",
       "2      0.833333                0.0            0.8  0.000                 0.0   \n",
       "3      0.119048                1.0            0.0  0.684                 0.2   \n",
       "4      0.690476                0.0            1.0  0.000                 0.0   \n",
       "...         ...                ...            ...    ...                 ...   \n",
       "93795  0.738095                0.0            0.6  0.000                 0.0   \n",
       "93796  0.261905                0.0            1.0  0.000                 0.0   \n",
       "93797  0.142857                0.2            0.0  0.751                 0.8   \n",
       "93798  0.119048                0.0            0.8  0.000                 0.0   \n",
       "93799  0.595238                0.0            1.0  0.000                 0.0   \n",
       "\n",
       "       Job Satisfaction  Work/Study Hours  Financial Stress Gender  \\\n",
       "0                   1.0          0.750000              0.50      1   \n",
       "1                   0.8          0.500000              0.75      0   \n",
       "2                   0.2          1.000000              0.75      1   \n",
       "3                   0.0          0.833333              0.75      0   \n",
       "4                   1.0          0.250000              0.75      1   \n",
       "...                 ...               ...               ...    ...   \n",
       "93795               1.0          0.166667              0.25      0   \n",
       "93796               0.2          0.916667              0.50      1   \n",
       "93797               0.0          0.583333              0.00      1   \n",
       "93798               0.4          0.583333              1.00      0   \n",
       "93799               0.4          0.916667              0.25      0   \n",
       "\n",
       "      Working Professional or Student Have you ever had suicidal thoughts ?  \\\n",
       "0                                   0                                     0   \n",
       "1                                   0                                     0   \n",
       "2                                   0                                     1   \n",
       "3                                   1                                     1   \n",
       "4                                   0                                     1   \n",
       "...                               ...                                   ...   \n",
       "93795                               0                                     1   \n",
       "93796                               0                                     1   \n",
       "93797                               1                                     0   \n",
       "93798                               0                                     1   \n",
       "93799                               0                                     0   \n",
       "\n",
       "      Family History of Mental Illness  \n",
       "0                                    1  \n",
       "1                                    0  \n",
       "2                                    0  \n",
       "3                                    0  \n",
       "4                                    0  \n",
       "...                                ...  \n",
       "93795                                1  \n",
       "93796                                1  \n",
       "93797                                0  \n",
       "93798                                1  \n",
       "93799                                0  \n",
       "\n",
       "[93800 rows x 12 columns]"
      ]
     },
     "execution_count": 179,
     "metadata": {},
     "output_type": "execute_result"
    }
   ],
   "source": [
    "# process the test set.\n",
    "\n",
    "def preprocess(test_data):\n",
    "\n",
    "    pre_cleaned = test_data\n",
    "\n",
    "    #fill nans with 0 \n",
    "    test_data['CGPA'] = test_data['CGPA'].fillna(0)\n",
    "    test_data['Academic Pressure'] = test_data['Academic Pressure'].fillna(0)\n",
    "    test_data['Work Pressure'] = test_data['Work Pressure'].fillna(0)\n",
    "    test_data['Study Satisfaction'] = test_data['Study Satisfaction'].fillna(0)\n",
    "    test_data['Job Satisfaction'] = test_data['Job Satisfaction'].fillna(0)\n",
    "    test_data['Financial Stress'] = test_data['Financial Stress'].fillna(0)\n",
    "\n",
    "    # #sleeping items to focus on\n",
    "    # test_data = test_data[(test_data['Sleep Duration'] == 'Less than 5 hours') \n",
    "    #             | (test_data['Sleep Duration'] == '7-8 hours') | (test_data['Sleep Duration'] == 'More than 8 hours') \n",
    "    #             | (test_data['Sleep Duration'] == '5-6 hours')]\n",
    "\n",
    "    # #clean up sleeping column\n",
    "    # test_data.loc[test_data['Sleep Duration'] == 'Less than 5 hours', 'Sleep Duration'] = 1  # Bad\n",
    "    # test_data.loc[test_data['Sleep Duration'] == '5-6 hours', 'Sleep Duration'] = 2        # Okay\n",
    "    # test_data.loc[test_data['Sleep Duration'] == '7-8 hours', 'Sleep Duration'] = 3        # Best\n",
    "    # test_data.loc[test_data['Sleep Duration'] == 'More than 8 hours', 'Sleep Duration'] = 4 # Okay\n",
    "\n",
    "    #convert string columns to binary\n",
    "    test_data.loc[test_data['Gender'] == 'Male', 'Gender'] = 1\n",
    "    test_data.loc[test_data['Gender'] == 'Female', 'Gender'] = 0\n",
    "    \n",
    "    test_data.loc[test_data['Have you ever had suicidal thoughts ?'] == 'Yes', 'Have you ever had suicidal thoughts ?'] = 1\n",
    "    test_data.loc[test_data['Have you ever had suicidal thoughts ?'] == 'No', 'Have you ever had suicidal thoughts ?'] = 0\n",
    "    \n",
    "    test_data.loc[test_data['Family History of Mental Illness'] == 'Yes', 'Family History of Mental Illness'] = 1\n",
    "    test_data.loc[test_data['Family History of Mental Illness'] == 'No', 'Family History of Mental Illness'] = 0\n",
    "    \n",
    "    test_data.loc[test_data['Working Professional or Student'] == 'Working Professional', 'Working Professional or Student'] = 0\n",
    "    test_data.loc[test_data['Working Professional or Student'] == 'Student', 'Working Professional or Student'] = 1\n",
    "\n",
    "    #normalize the dataset\n",
    "    scaler = MinMaxScaler()\n",
    "    #columns that are non binary (not 1s or 0s)\n",
    "    numeric_columns = [ 'Age', 'Academic Pressure', \n",
    "                               'Work Pressure', 'CGPA', 'Study Satisfaction', 'Job Satisfaction',\n",
    "                               'Work/Study Hours', 'Financial Stress']\n",
    "    clean_data_norm = scaler.fit_transform(test_data[numeric_columns])\n",
    "    \n",
    "    clean_data_norm = pd.DataFrame(clean_data_norm, \n",
    "                               columns=numeric_columns, \n",
    "                               index=test_data.index)\n",
    "\n",
    "    #columns that are binary (1 or 0)\n",
    "    x_vals_add_in = ['Gender', 'Working Professional or Student',  'Have you ever had suicidal thoughts ?',\n",
    "                            'Family History of Mental Illness']\n",
    "\n",
    "    #combine normalized data and cleaned data\n",
    "    X_data = pd.concat([clean_data_norm, test_data[x_vals_add_in]], axis=1)\n",
    "\n",
    "    #ready to run processed X variable data\n",
    "    processed_test_data = X_data\n",
    "    \n",
    "    return processed_test_data\n",
    "\n",
    "\n",
    "preprocess(submission_test)\n",
    "    "
   ]
  },
  {
   "cell_type": "code",
   "execution_count": 180,
   "id": "df37a08d-e9eb-4a6b-adae-15c8274d0864",
   "metadata": {},
   "outputs": [],
   "source": [
    "predictions = rf.predict(preprocess(submission_test))\n",
    "\n",
    "ids = submission_test['id']\n",
    "\n",
    "submission = pd.DataFrame({\n",
    "    'id': ids,\n",
    "    'prediction': predictions\n",
    "})\n",
    "\n",
    "submission.to_csv('submission.csv', index=False)"
   ]
  },
  {
   "cell_type": "code",
   "execution_count": 183,
   "id": "2e1255bb-dc91-47b2-9387-9eb84b5b54df",
   "metadata": {},
   "outputs": [],
   "source": [
    "# Submitted on 11/17/24\n",
    "# Score: 0.93171 \n",
    "# Place: 1223"
   ]
  },
  {
   "cell_type": "code",
   "execution_count": null,
   "id": "4329a5b6-07cc-4c0b-900a-ad97a477819f",
   "metadata": {},
   "outputs": [],
   "source": []
  }
 ],
 "metadata": {
  "kernelspec": {
   "display_name": "Python 3 (ipykernel)",
   "language": "python",
   "name": "python3"
  },
  "language_info": {
   "codemirror_mode": {
    "name": "ipython",
    "version": 3
   },
   "file_extension": ".py",
   "mimetype": "text/x-python",
   "name": "python",
   "nbconvert_exporter": "python",
   "pygments_lexer": "ipython3",
   "version": "3.10.11"
  }
 },
 "nbformat": 4,
 "nbformat_minor": 5
}
